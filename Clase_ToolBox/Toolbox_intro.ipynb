{
  "nbformat": 4,
  "nbformat_minor": 0,
  "metadata": {
    "colab": {
      "name": "Untitled1.ipynb",
      "provenance": [],
      "collapsed_sections": []
    },
    "kernelspec": {
      "name": "python3",
      "display_name": "Python 3"
    },
    "language_info": {
      "name": "python"
    }
  },
  "cells": [
    {
      "cell_type": "markdown",
      "metadata": {
        "id": "_UCh__EWw41Z"
      },
      "source": [
        "# Clase 0.5: Introducción a R y Git\n",
        "\n",
        "Benjamín Oliva & Omar Alfaro-Rivera"
      ]
    },
    {
      "cell_type": "code",
      "metadata": {
        "id": "qTv2k2lnyZ6N"
      },
      "source": [
        "%load_ext rpy2.ipython"
      ],
      "execution_count": 1,
      "outputs": []
    },
    {
      "cell_type": "markdown",
      "metadata": {
        "id": "iQv52TZ8xcf5"
      },
      "source": [
        "## R y R Studio\n",
        "\n"
      ]
    },
    {
      "cell_type": "markdown",
      "metadata": {
        "id": "NjmAR-gdxVtm"
      },
      "source": [
        "Hay una distinción importante entre _R_ y _R Studio_ que muchas veces no es suficientemente clara. Básicamente R se trata del lenguaje de programación que se encarga de computar todas las intrucciones que se señalen, mientras que R Studio es el medio \"amable\" a través del cual nos podemos comunicar mediante este lenguaje. \n"
      ]
    },
    {
      "cell_type": "markdown",
      "metadata": {
        "id": "5K-M6_WwxpuD"
      },
      "source": [
        "### Instalación"
      ]
    },
    {
      "cell_type": "markdown",
      "metadata": {
        "id": "_YxtcoOGxzRf"
      },
      "source": [
        "Para instalar _R_ es necesario visitar [este enlace](https://cran.r-project.org/bin/windows/base/) en caso de ser usuario de _Windows_  y visitar [este enlace](https://cran.r-project.org/bin/macosx/) en caso de usar MAC, esto para descargar y posteriormente instalar. En el caso de _R Studio_ en ambos casos es necesario visitar [esta página](https://www.rstudio.com/products/rstudio/download/) y descargar la opción marcada como \"RStudio Desktop FREE\". \n",
        "\n",
        "Al ejecutar ambos programas de instalación, a menos que se tenga una idea clara de lo que se están haciendo, lo recomendable es seleccionar todas las opciones de instalación seleccionadas por defecto.\n"
      ]
    },
    {
      "cell_type": "markdown",
      "metadata": {
        "id": "4WgWoKyAyJmp"
      },
      "source": [
        "### Tipos de archivos"
      ]
    },
    {
      "cell_type": "markdown",
      "metadata": {
        "id": "sQ9ry32TyNNh"
      },
      "source": [
        "Uno de los aspectos que vuelven tan valiosa una herramienta como _R_, es la facilidad con que nos permite una perfecta replicabilidad de nuestras investigaciones o trabajos académicos. En este sentido, el valor de las intrucciones que generamos tienen mucho más valor una vez que tenemos la posibilidad de generar un código que funcione basicamente desde cualquier computadora. Hay dos opciones muy populares para este objetivo.\n",
        "\n",
        "* Script de R: este tipo de archivos (terminación .R) guarda una serie de instrucciones, el único producto que generan es la llamada de cada línea de Código dentro de la consola. \n",
        "\n",
        "* R Markdown: este tipo de archivo (terminación .Rmd) a la vez que nos permiten llamar lineas de código que se ejecutan en la consola, permite mezclarlo con líneas de texto que produce archivos en formatos que facilmente se pueden compartir como _html_ o _pdf_. \n"
      ]
    },
    {
      "cell_type": "markdown",
      "metadata": {
        "id": "l5C8xeEKyR8C"
      },
      "source": [
        "## Google Colab"
      ]
    },
    {
      "cell_type": "markdown",
      "metadata": {
        "id": "UAj_J2Ykx5eY"
      },
      "source": [
        "Existe una opción adicional en la que podemos trabajar con _R_. Idealmente no es la primera opción que consideramos, pero es de mucha ayuda cuando nos encontramos trabajando en una maquina con una limitada capacidad de procesamiento o en un ambiente de trabajo como android o un sistema que se le parezca.\n",
        "\n",
        "Esta opción es un ambiente brindado por _Google_ y que en principio está diseñado para trabajar con _Python_, sin embargo actualmente existen librerías con las cuales podemos copilar código de _R_ desde un entorno de trabajo de Python, por lo que el material de la clase también se brinda bajo esta opción.\n",
        "\n",
        "* Notebook: este tipo de archivos (terminación .ipybn) permiten copilar código a la vez que dan la posibilidad de realizar notas mediante el lenguaje de marcado de texto _Mark Down_.  \n",
        "\n",
        "La manera más sencilla de utilizar esta opción es instalar en el navegador google chrome la extensión de _Colab_, abrir la página donde se encuentra el archivo .ipynb y presionar la extensión de Colab. \n",
        "\n",
        "Cabe señalar que para hacer uso de esta opción es necesario tener una cuenta de google. Una desventaja de esta opción es que en cada sesión debemos de instalar las librerías que utilizaremos. "
      ]
    },
    {
      "cell_type": "markdown",
      "metadata": {
        "id": "Ry_hMDowyV7B"
      },
      "source": [
        ""
      ]
    },
    {
      "cell_type": "code",
      "metadata": {
        "id": "ldJgWD8sqZrk"
      },
      "source": [
        "%%R\n",
        "\n",
        "normal_dist <- rnorm(100,0,1)"
      ],
      "execution_count": 3,
      "outputs": []
    },
    {
      "cell_type": "code",
      "metadata": {
        "colab": {
          "base_uri": "https://localhost:8080/",
          "height": 497
        },
        "id": "wAjYI3bGqubA",
        "outputId": "b42096dd-82ce-4f91-d698-72542f340cb0"
      },
      "source": [
        "%%R\n",
        "\n",
        "hist(normal_dist)"
      ],
      "execution_count": 4,
      "outputs": [
        {
          "output_type": "display_data",
          "data": {
            "image/png": "[encoded data removed]"
          },
          "metadata": {}
        }
      ]
    },
    {
      "cell_type": "markdown",
      "metadata": {
        "id": "KOZJUzvOxV_3"
      },
      "source": [
        "### Git y Github\n",
        "\n",
        "Git es un software especializado en el control de versiones. Los entornos de trabajo _Unix_ y _Linux_, al ser ambientes de trabajo ideales para programadores, ya tienen preinstalado _git_. En el caso de _Windows_ es necesario realizar la instalación de [Git Bash](https://gitforwindows.org/). \n",
        "\n",
        "Dicho lo anterior, [GitHub](https://github.com/) viene a ser una red social de desarrolladores que pueden compartir sus proyectos y alojarlos en la nube. Es de gran utilidad en los emprendimientos de carácter colaborativo, como es el caso de esta clases, en la que tras una serie de pasos es posible que siempre se aseguren de tener la última versión de los archivos que estaremos utilizando. \n",
        "\n",
        "1) Al abrir la consola (en el caso de Windows puede ser bash y omitir este primer paso) escribir la sentencia: git\n",
        "\n",
        "2) Cambiar el directorio de trabajo, esto se consigue escribiendo: _cd \"la carpeta donde pretenden alojar los archivos de la clase\"_\n",
        "\n",
        "3) Clonar el repositorio en la nube dentro de nuestra máquina: git clone \"https://github.com/benjov/Series-de-Tiempo-2021\"\n",
        "\n",
        "4) Como podremos notar, esto crea una nueva carpeta a la cual podemos acceder con la sentencia: cd .\\ Series-de-Tiempo-2021\n",
        "\n",
        "4) Añadir el vínculo remoto, lo llamaremos \"original\": git add remote original \"https://github.com/benjov/Series-de-Tiempo-2021\"\n",
        "\n",
        "5) Finalmente cada  que deseemos actualizar los archivos con la conexión con nuestro repositorio remoto, bastará con ir a la ubicación de la carpeta con el domando _cd_ y escribir: git fetch original\n"
      ]
    },
    {
      "cell_type": "markdown",
      "metadata": {
        "id": "b-u2bW5cxt6r"
      },
      "source": [
        "## Programación Orientada a Objetos\n",
        "\n",
        "En este curso utilizaremos uno de los lenguajes de programaión más utilizados en el mundo estadístico. Como muchos otros (Java, JavaScript, Python, VBA, por mencionar algunos), __R__ es un lenguaje bajo el paradigma de Programación Orientado a Objetos. En términos de funcionamiento computacional esto tiene diversas implicaciones, sin embargo, para fines de esta clase es suficiente comprender que en el ambiente de trabajo todo son bojetos, y que en función de su clase y propiedades está el alcance de \n"
      ]
    },
    {
      "cell_type": "code",
      "metadata": {
        "colab": {
          "base_uri": "https://localhost:8080/"
        },
        "id": "SZ6H_Yf-xyDh",
        "outputId": "444d989c-6b9f-481c-e2f0-f9a5376d8537"
      },
      "source": [
        "%%R\n",
        "\n",
        "a <- 85\n",
        "class(a)\n",
        "b <- \"2\"\n",
        "class(b)\n",
        "a + as.numeric(b)\n"
      ],
      "execution_count": 5,
      "outputs": [
        {
          "output_type": "stream",
          "name": "stdout",
          "text": [
            "[1] 87\n"
          ]
        }
      ]
    },
    {
      "cell_type": "markdown",
      "metadata": {
        "id": "MP9Jbj4xx60C"
      },
      "source": [
        "## R Markdown\n",
        "\n",
        "Básicamente la estrucura para declarar encabezados, es utilizar hash (#) al inicio, la estructura base es que el número de estos símbolos explicar la importancia Gerarquica de nuestro encabezado.\n",
        "\n",
        "### R Markdown\n",
        "#### R Markdown\n",
        "##### R Markdown\n",
        "\n",
        "En el caso de las listas, basta con poner un asterisco (*), espacio y posteriormente la oración o el texto, para hacer notar que queremos plasmar una lista. \n",
        "\n",
        "* Esta es \n",
        "* Una lista\n",
        "\n",
        "Para resaltar algunas partes del texto podemos valernos del guión bajo, una oración dentro de guiones bajos se tomará como itálicas y con dos guiones bajo de cada lato se toma como negritas. \n",
        "\n",
        "_Estas son Italicas_\n",
        "\n",
        "__Estas son negritas__\n",
        "\n",
        "Las ecuaciones son uno de los atractivos más grandes de MarkDown, dado que el producto que podemos escribir es muy estético. Este aspecto tiene muchas opciones y detalles, para una descripción más profunda se recomienta visitar [esta página](http://csrgxtu.github.io/2015/03/20/Writing-Mathematic-Fomulars-in-Markdown/), sin embargo simplemente basta con hacer una delcaración entre signos de moneda para que MarkDown entienda que se trata de una ecuación\n",
        "\n",
        "Ecuación: $Y = \\beta_0+\\beta_iX_i+\\hat{e}_i$\n",
        "\n",
        "Una de las razones principales por las que utilizaremos R Markdown para esta clase, es básicamente por la ventaja que significa poder mantener pedazos ( _chunks_ ) de código dentro de las notas. Esto permite realizar una varidad enorme de archivos producidos desde R. \n",
        "\n"
      ]
    },
    {
      "cell_type": "code",
      "metadata": {
        "colab": {
          "base_uri": "https://localhost:8080/",
          "height": 497
        },
        "id": "9JzwdyppyAu-",
        "outputId": "75e000d0-5207-42aa-8d61-efc077441ad1"
      },
      "source": [
        "#Este es un chunk con echo = FALSE\n",
        "\n",
        "X = seq(1:1000)\n",
        "Y = sqrt(X)\n",
        "plot(X,Y)\n"
      ],
      "execution_count": 7,
      "outputs": [
        {
          "output_type": "display_data",
          "data": {
            "image/png": "[encoded data removed]"
          },
          "metadata": {}
        }
      ]
    }
  ]
}