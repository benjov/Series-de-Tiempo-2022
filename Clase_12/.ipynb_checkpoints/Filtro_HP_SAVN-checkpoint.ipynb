{
 "cells": [
  {
   "cell_type": "markdown",
   "metadata": {},
   "source": [
    "# Cálculo de Filtro Hodrick-Prescott\n"
   ]
  },
  {
   "cell_type": "code",
   "execution_count": 1,
   "metadata": {},
   "outputs": [],
   "source": [
    "# Dependencias:\n",
    "import pandas as pd\n",
    "import numpy as np\n",
    "import matplotlib.pyplot as plt\n",
    "import itertools\n",
    "\n",
    "# Omiting WARNINGS\n",
    "import warnings\n",
    "warnings.filterwarnings('ignore')"
   ]
  },
  {
   "cell_type": "code",
   "execution_count": 2,
   "metadata": {},
   "outputs": [],
   "source": [
    "# Carga de archivos:\n",
    "\n",
    "PIB_df = pd.read_csv(\"PIB_TRIM.csv\")\n",
    "IGAE_df = pd.read_csv(\"IGAE_MEN.csv\")"
   ]
  },
  {
   "cell_type": "code",
   "execution_count": 3,
   "metadata": {},
   "outputs": [
    {
     "data": {
      "text/html": [
       "<div>\n",
       "<style scoped>\n",
       "    .dataframe tbody tr th:only-of-type {\n",
       "        vertical-align: middle;\n",
       "    }\n",
       "\n",
       "    .dataframe tbody tr th {\n",
       "        vertical-align: top;\n",
       "    }\n",
       "\n",
       "    .dataframe thead th {\n",
       "        text-align: right;\n",
       "    }\n",
       "</style>\n",
       "<table border=\"1\" class=\"dataframe\">\n",
       "  <thead>\n",
       "    <tr style=\"text-align: right;\">\n",
       "      <th></th>\n",
       "      <th>Periodo</th>\n",
       "      <th>PIB_MEX</th>\n",
       "      <th>GDP_USD</th>\n",
       "    </tr>\n",
       "  </thead>\n",
       "  <tbody>\n",
       "    <tr>\n",
       "      <th>0</th>\n",
       "      <td>1993/01</td>\n",
       "      <td>10066121.86</td>\n",
       "      <td>6729.459</td>\n",
       "    </tr>\n",
       "    <tr>\n",
       "      <th>1</th>\n",
       "      <td>1993/02</td>\n",
       "      <td>10092487.93</td>\n",
       "      <td>6808.939</td>\n",
       "    </tr>\n",
       "    <tr>\n",
       "      <th>2</th>\n",
       "      <td>1993/03</td>\n",
       "      <td>10200852.22</td>\n",
       "      <td>6882.098</td>\n",
       "    </tr>\n",
       "    <tr>\n",
       "      <th>3</th>\n",
       "      <td>1993/04</td>\n",
       "      <td>10329632.31</td>\n",
       "      <td>7013.738</td>\n",
       "    </tr>\n",
       "    <tr>\n",
       "      <th>4</th>\n",
       "      <td>1994/01</td>\n",
       "      <td>10436716.63</td>\n",
       "      <td>7115.652</td>\n",
       "    </tr>\n",
       "    <tr>\n",
       "      <th>...</th>\n",
       "      <td>...</td>\n",
       "      <td>...</td>\n",
       "      <td>...</td>\n",
       "    </tr>\n",
       "    <tr>\n",
       "      <th>103</th>\n",
       "      <td>2018/04</td>\n",
       "      <td>18590228.01</td>\n",
       "      <td>20897.804</td>\n",
       "    </tr>\n",
       "    <tr>\n",
       "      <th>104</th>\n",
       "      <td>2019/01</td>\n",
       "      <td>18566766.49</td>\n",
       "      <td>21098.827</td>\n",
       "    </tr>\n",
       "    <tr>\n",
       "      <th>105</th>\n",
       "      <td>2019/02</td>\n",
       "      <td>18547684.05</td>\n",
       "      <td>21340.267</td>\n",
       "    </tr>\n",
       "    <tr>\n",
       "      <th>106</th>\n",
       "      <td>2019/03</td>\n",
       "      <td>18532013.87</td>\n",
       "      <td>21542.540</td>\n",
       "    </tr>\n",
       "    <tr>\n",
       "      <th>107</th>\n",
       "      <td>2019/04</td>\n",
       "      <td>18506692.63</td>\n",
       "      <td>21726.779</td>\n",
       "    </tr>\n",
       "  </tbody>\n",
       "</table>\n",
       "<p>108 rows × 3 columns</p>\n",
       "</div>"
      ],
      "text/plain": [
       "     Periodo      PIB_MEX    GDP_USD\n",
       "0    1993/01  10066121.86   6729.459\n",
       "1    1993/02  10092487.93   6808.939\n",
       "2    1993/03  10200852.22   6882.098\n",
       "3    1993/04  10329632.31   7013.738\n",
       "4    1994/01  10436716.63   7115.652\n",
       "..       ...          ...        ...\n",
       "103  2018/04  18590228.01  20897.804\n",
       "104  2019/01  18566766.49  21098.827\n",
       "105  2019/02  18547684.05  21340.267\n",
       "106  2019/03  18532013.87  21542.540\n",
       "107  2019/04  18506692.63  21726.779\n",
       "\n",
       "[108 rows x 3 columns]"
      ]
     },
     "execution_count": 3,
     "metadata": {},
     "output_type": "execute_result"
    }
   ],
   "source": [
    "# \n",
    "\n",
    "PIB_df"
   ]
  },
  {
   "cell_type": "code",
   "execution_count": 4,
   "metadata": {},
   "outputs": [
    {
     "data": {
      "text/html": [
       "<div>\n",
       "<style scoped>\n",
       "    .dataframe tbody tr th:only-of-type {\n",
       "        vertical-align: middle;\n",
       "    }\n",
       "\n",
       "    .dataframe tbody tr th {\n",
       "        vertical-align: top;\n",
       "    }\n",
       "\n",
       "    .dataframe thead th {\n",
       "        text-align: right;\n",
       "    }\n",
       "</style>\n",
       "<table border=\"1\" class=\"dataframe\">\n",
       "  <thead>\n",
       "    <tr style=\"text-align: right;\">\n",
       "      <th></th>\n",
       "      <th>Periodo</th>\n",
       "      <th>IGAE_MEX</th>\n",
       "      <th>IPI_USA</th>\n",
       "    </tr>\n",
       "  </thead>\n",
       "  <tbody>\n",
       "    <tr>\n",
       "      <th>0</th>\n",
       "      <td>1993/01</td>\n",
       "      <td>61.665099</td>\n",
       "      <td>64.531306</td>\n",
       "    </tr>\n",
       "    <tr>\n",
       "      <th>1</th>\n",
       "      <td>1993/02</td>\n",
       "      <td>62.582519</td>\n",
       "      <td>64.817393</td>\n",
       "    </tr>\n",
       "    <tr>\n",
       "      <th>2</th>\n",
       "      <td>1993/03</td>\n",
       "      <td>62.341672</td>\n",
       "      <td>64.726652</td>\n",
       "    </tr>\n",
       "    <tr>\n",
       "      <th>3</th>\n",
       "      <td>1993/04</td>\n",
       "      <td>62.426948</td>\n",
       "      <td>64.953699</td>\n",
       "    </tr>\n",
       "    <tr>\n",
       "      <th>4</th>\n",
       "      <td>1993/05</td>\n",
       "      <td>63.035579</td>\n",
       "      <td>64.728203</td>\n",
       "    </tr>\n",
       "    <tr>\n",
       "      <th>...</th>\n",
       "      <td>...</td>\n",
       "      <td>...</td>\n",
       "      <td>...</td>\n",
       "    </tr>\n",
       "    <tr>\n",
       "      <th>319</th>\n",
       "      <td>2019/08</td>\n",
       "      <td>112.750030</td>\n",
       "      <td>106.499151</td>\n",
       "    </tr>\n",
       "    <tr>\n",
       "      <th>320</th>\n",
       "      <td>2019/09</td>\n",
       "      <td>112.958486</td>\n",
       "      <td>106.136283</td>\n",
       "    </tr>\n",
       "    <tr>\n",
       "      <th>321</th>\n",
       "      <td>2019/10</td>\n",
       "      <td>112.457406</td>\n",
       "      <td>105.679280</td>\n",
       "    </tr>\n",
       "    <tr>\n",
       "      <th>322</th>\n",
       "      <td>2019/11</td>\n",
       "      <td>112.601803</td>\n",
       "      <td>106.613838</td>\n",
       "    </tr>\n",
       "    <tr>\n",
       "      <th>323</th>\n",
       "      <td>2019/12</td>\n",
       "      <td>112.829486</td>\n",
       "      <td>106.195129</td>\n",
       "    </tr>\n",
       "  </tbody>\n",
       "</table>\n",
       "<p>324 rows × 3 columns</p>\n",
       "</div>"
      ],
      "text/plain": [
       "     Periodo    IGAE_MEX     IPI_USA\n",
       "0    1993/01   61.665099   64.531306\n",
       "1    1993/02   62.582519   64.817393\n",
       "2    1993/03   62.341672   64.726652\n",
       "3    1993/04   62.426948   64.953699\n",
       "4    1993/05   63.035579   64.728203\n",
       "..       ...         ...         ...\n",
       "319  2019/08  112.750030  106.499151\n",
       "320  2019/09  112.958486  106.136283\n",
       "321  2019/10  112.457406  105.679280\n",
       "322  2019/11  112.601803  106.613838\n",
       "323  2019/12  112.829486  106.195129\n",
       "\n",
       "[324 rows x 3 columns]"
      ]
     },
     "execution_count": 4,
     "metadata": {},
     "output_type": "execute_result"
    }
   ],
   "source": [
    "# \n",
    "\n",
    "IGAE_df"
   ]
  },
  {
   "cell_type": "markdown",
   "metadata": {},
   "source": [
    "## Filtro Hodrick-Prescott"
   ]
  },
  {
   "cell_type": "markdown",
   "metadata": {},
   "source": [
    "### Hodrick-Prescott"
   ]
  },
  {
   "cell_type": "markdown",
   "metadata": {},
   "source": [
    "Método tradicional de HP consiste en minimizar la serie $\\{ \\tau_t \\}_{t=-1}^T$:\n",
    "\n",
    "$$\\sum_{t=1}^T (y_t - \\tau_t)^2 + \\lambda \\sum_{t=1}^{T} [(\\tau_{t} - \\tau_{t-1}) - (\\tau_{t-1} - \\tau_{t-2})]^2$$\n",
    "\n",
    "Donde $\\lambda$ es una parámetro fijo (determinado ex-ante) y $\\tau_t$ es un componente de tendencia de $y_t$."
   ]
  },
  {
   "cell_type": "markdown",
   "metadata": {},
   "source": [
    "Sin pérdida de generalidad, asumiremos que $\\tau_{-1}$ y $\\tau_{0}$ son cero (0). De esta manera, la forma matricial del filtro HP es:\n",
    "$$(Y - G)'(Y - G) + \\lambda G' K' K G$$\n",
    "\n",
    "La derivada de los anteriores:\n",
    "$$-2 Y + 2 G + \\lambda 2 K' K G = 0$$\n",
    "\n",
    "Despejando:\n",
    "$$G_{hp} = [I_T + \\lambda K' K]^{-1} Y$$"
   ]
  },
  {
   "cell_type": "markdown",
   "metadata": {},
   "source": [
    "Donde $G$ es el vector de tendencia, $Y$ es el vector de la serie de datos, $\\lambda$ es la constante tradicional, y $K$ es de dimensión $T \\times T$ y está dada por la expresión:\n",
    "$$K = \n",
    "\\begin{pmatrix}\n",
    "1 & 0 & 0 & 0 & \\ldots & 0 \\\\\n",
    "-2 & 1 & 0 & 0 & \\ldots & 0 \\\\\n",
    "1 & -2 & 1 & 0 & \\ldots & 0 \\\\\n",
    "0 & 1 & -2 & 1 & \\ldots & 0 \\\\\n",
    "\\vdots & \\vdots &  \\vdots &  \\vdots &  \\vdots &  \\vdots \\\\\n",
    "0 & 0 & 0 & 0 & \\ldots & 1 \\\\\n",
    "\\end{pmatrix}\n",
    "$$"
   ]
  },
  {
   "cell_type": "markdown",
   "metadata": {},
   "source": [
    "Así:\n",
    "\n",
    "$$K' = \n",
    "\\begin{pmatrix}\n",
    "1 & -2 & 1 & 0 & \\ldots & 0 \\\\\n",
    "0 & 1 & -2 & 1 & \\ldots & 0 \\\\\n",
    "0 & 0 & 1 & -2 & \\ldots & 0 \\\\\n",
    "0 & 0 & 0 & 1 & \\ldots & 0 \\\\\n",
    "\\vdots & \\vdots &  \\vdots &  \\vdots &  \\vdots &  \\vdots \\\\\n",
    "0 & 0 & 0 & 0 & \\ldots & 1 \\\\\n",
    "\\end{pmatrix}\n",
    "$$"
   ]
  },
  {
   "cell_type": "code",
   "execution_count": 5,
   "metadata": {},
   "outputs": [],
   "source": [
    "# CASO: PIB Trimestral\n",
    "# Definición de parámetros:\n",
    "T = 108\n",
    "Lambda = 1600\n",
    "K = np.identity(T)"
   ]
  },
  {
   "cell_type": "code",
   "execution_count": 6,
   "metadata": {},
   "outputs": [
    {
     "data": {
      "text/plain": [
       "array([[1., 0., 0., ..., 0., 0., 0.],\n",
       "       [0., 1., 0., ..., 0., 0., 0.],\n",
       "       [0., 0., 1., ..., 0., 0., 0.],\n",
       "       ...,\n",
       "       [0., 0., 0., ..., 1., 0., 0.],\n",
       "       [0., 0., 0., ..., 0., 1., 0.],\n",
       "       [0., 0., 0., ..., 0., 0., 1.]])"
      ]
     },
     "execution_count": 6,
     "metadata": {},
     "output_type": "execute_result"
    }
   ],
   "source": [
    "K"
   ]
  },
  {
   "cell_type": "code",
   "execution_count": 7,
   "metadata": {},
   "outputs": [],
   "source": [
    "for i, j in itertools.product(range(T), range(T)):\n",
    "    if i - 1 == j:\n",
    "        K[i][j] = -2\n",
    "    if i - 2 == j:\n",
    "        K[i][j] = 1"
   ]
  },
  {
   "cell_type": "code",
   "execution_count": 8,
   "metadata": {},
   "outputs": [
    {
     "data": {
      "text/plain": [
       "array([[ 1.,  0.,  0., ...,  0.,  0.,  0.],\n",
       "       [-2.,  1.,  0., ...,  0.,  0.,  0.],\n",
       "       [ 1., -2.,  1., ...,  0.,  0.,  0.],\n",
       "       ...,\n",
       "       [ 0.,  0.,  0., ...,  1.,  0.,  0.],\n",
       "       [ 0.,  0.,  0., ..., -2.,  1.,  0.],\n",
       "       [ 0.,  0.,  0., ...,  1., -2.,  1.]])"
      ]
     },
     "execution_count": 8,
     "metadata": {},
     "output_type": "execute_result"
    }
   ],
   "source": [
    "K"
   ]
  },
  {
   "cell_type": "code",
   "execution_count": 9,
   "metadata": {},
   "outputs": [
    {
     "data": {
      "text/plain": [
       "array([[ 1., -2.,  1., ...,  0.,  0.,  0.],\n",
       "       [ 0.,  1., -2., ...,  0.,  0.,  0.],\n",
       "       [ 0.,  0.,  1., ...,  0.,  0.,  0.],\n",
       "       ...,\n",
       "       [ 0.,  0.,  0., ...,  1., -2.,  1.],\n",
       "       [ 0.,  0.,  0., ...,  0.,  1., -2.],\n",
       "       [ 0.,  0.,  0., ...,  0.,  0.,  1.]])"
      ]
     },
     "execution_count": 9,
     "metadata": {},
     "output_type": "execute_result"
    }
   ],
   "source": [
    "np.transpose(K)"
   ]
  },
  {
   "cell_type": "code",
   "execution_count": 10,
   "metadata": {},
   "outputs": [
    {
     "data": {
      "text/plain": [
       "array([10066121.86, 10092487.93, 10200852.22, 10329632.31, 10436716.63,\n",
       "       10655450.27, 10742186.42, 10861848.51, 10238043.32,  9736364.21,\n",
       "        9926096.96, 10110488.97, 10367229.46, 10518854.09, 10703541.26,\n",
       "       11018639.93, 11037680.74, 11293348.09, 11512936.17, 11790790.53,\n",
       "       11903392.13, 11990433.81, 12045238.13, 12063955.33, 12195322.24,\n",
       "       12265454.45, 12364920.6 , 12493022.47, 12722924.59, 12927620.25,\n",
       "       13028513.1 , 12942040.77, 12957763.08, 12879137.31, 12882651.4 ,\n",
       "       12821843.85, 12742924.66, 12853100.83, 12940661.04, 12980917.97,\n",
       "       13015289.95, 13041188.38, 13040282.67, 13176382.76, 13343988.17,\n",
       "       13570141.95, 13551818.37, 13718241.91, 13741612.99, 13782648.62,\n",
       "       13909178.65, 14129444.56, 14378259.9 , 14520155.2 , 14564962.75,\n",
       "       14596400.26, 14699980.57, 14812820.95, 14905521.63, 14965263.14,\n",
       "       14915886.46, 15048665.69, 15092670.04, 14852544.92, 14096777.9 ,\n",
       "       13881028.27, 14331726.67, 14580211.04, 14738249.1 , 14890721.75,\n",
       "       15026245.67, 15151487.87, 15274550.53, 15341615.86, 15637039.62,\n",
       "       15748743.51, 15837439.9 , 15977627.88, 16078269.83, 16213674.55,\n",
       "       16269905.52, 16157056.06, 16313692.  , 16402695.3 , 16508811.05,\n",
       "       16717683.94, 16780482.77, 16967333.84, 17060757.79, 17237670.2 ,\n",
       "       17446826.06, 17443715.22, 17549061.86, 17626019.34, 17820267.67,\n",
       "       18022420.82, 18108948.41, 18168351.41, 18111156.83, 18324436.98,\n",
       "       18567856.4 , 18521633.61, 18578257.96, 18590228.01, 18566766.49,\n",
       "       18547684.05, 18532013.87, 18506692.63])"
      ]
     },
     "execution_count": 10,
     "metadata": {},
     "output_type": "execute_result"
    }
   ],
   "source": [
    "Y = np.array(PIB_df['PIB_MEX'])\n",
    "Y"
   ]
  },
  {
   "cell_type": "code",
   "execution_count": 11,
   "metadata": {},
   "outputs": [
    {
     "data": {
      "text/plain": [
       "array([[1., 0., 0., ..., 0., 0., 0.],\n",
       "       [0., 1., 0., ..., 0., 0., 0.],\n",
       "       [0., 0., 1., ..., 0., 0., 0.],\n",
       "       ...,\n",
       "       [0., 0., 0., ..., 1., 0., 0.],\n",
       "       [0., 0., 0., ..., 0., 1., 0.],\n",
       "       [0., 0., 0., ..., 0., 0., 1.]])"
      ]
     },
     "execution_count": 11,
     "metadata": {},
     "output_type": "execute_result"
    }
   ],
   "source": [
    "I_T = np.identity(T)\n",
    "I_T"
   ]
  },
  {
   "cell_type": "code",
   "execution_count": 12,
   "metadata": {},
   "outputs": [
    {
     "data": {
      "text/plain": [
       "array([[ 6., -4.,  1., ...,  0.,  0.,  0.],\n",
       "       [-4.,  6., -4., ...,  0.,  0.,  0.],\n",
       "       [ 1., -4.,  6., ...,  0.,  0.,  0.],\n",
       "       ...,\n",
       "       [ 0.,  0.,  0., ...,  6., -4.,  1.],\n",
       "       [ 0.,  0.,  0., ..., -4.,  5., -2.],\n",
       "       [ 0.,  0.,  0., ...,  1., -2.,  1.]])"
      ]
     },
     "execution_count": 12,
     "metadata": {},
     "output_type": "execute_result"
    }
   ],
   "source": [
    "np.matmul( np.transpose(K), K) "
   ]
  },
  {
   "cell_type": "code",
   "execution_count": 13,
   "metadata": {},
   "outputs": [
    {
     "data": {
      "text/plain": [
       "array([  233665.36423566,   650303.83769817,  1205368.45068861,\n",
       "        1860213.59856572,  2581815.85404407,  3342445.17653286,\n",
       "        4119280.83842629,  4894072.74030196,  5652710.09872595,\n",
       "        6384811.99012042,  7082863.32417082,  7741443.73070005,\n",
       "        8356909.86055336,  8927099.01785061,  9451104.95646129,\n",
       "        9929016.27717498, 10361704.35347099, 10750721.57361162,\n",
       "       11098042.81110079, 11405982.08101513, 11677112.70678061,\n",
       "       11914248.51710379, 12120344.76533076, 12298404.32061566,\n",
       "       12451383.11046555, 12582090.53176835, 12693175.94336794,\n",
       "       12787090.80655711, 12866081.42303902, 12932210.3018065 ,\n",
       "       12987450.47883173, 13033772.12130448, 13073171.0605528 ,\n",
       "       13107585.79581013, 13138882.6963221 , 13168785.35103069,\n",
       "       13198857.20431768, 13230444.86212671, 13264609.97256123,\n",
       "       13302178.3437046 , 13343773.31555732, 13389817.44038633,\n",
       "       13440527.9683551 , 13495904.25646432, 13555695.50840326,\n",
       "       13619451.22692586, 13686588.59769956, 13756493.98809374,\n",
       "       13828469.53408543, 13901793.46410287, 13975689.72123425,\n",
       "       14049307.78304017, 14121755.55766173, 14192191.03872562,\n",
       "       14259932.53507248, 14324503.33314377, 14385617.36326525,\n",
       "       14443158.491342  , 14497207.06028328, 14548074.45203505,\n",
       "       14596327.24514931, 14642792.76110806, 14688498.04590258,\n",
       "       14734723.81610471, 14783003.39578259, 14834943.74719433,\n",
       "       14891722.94166314, 14953922.85333902, 15021775.35870215,\n",
       "       15095278.76434942, 15174254.17296598, 15258394.83910302,\n",
       "       15347301.51199738, 15440508.12403021, 15537503.13821889,\n",
       "       15637713.20991582, 15740627.2047745 , 15845803.382386  ,\n",
       "       15952860.51027588, 16061499.74628076, 16171500.62906205,\n",
       "       16282737.80653349, 16395147.42966567, 16508587.09833756,\n",
       "       16622863.50278462, 16737717.15086833, 16852817.26766719,\n",
       "       16967820.5575029 , 17082338.51563608, 17195982.33312894,\n",
       "       17308349.71309017, 17419064.41354524, 17527836.74023645,\n",
       "       17634392.40566013, 17738470.38801244, 17839804.43232351,\n",
       "       17938179.40692473, 18033494.31538979, 18125754.89191929,\n",
       "       18215051.15639795, 18301464.00492182, 18385142.69972664,\n",
       "       18466402.99829513, 18545645.9649289 , 18623342.57328065,\n",
       "       18699991.66078122, 18776056.70480942, 18851905.99048731])"
      ]
     },
     "execution_count": 13,
     "metadata": {},
     "output_type": "execute_result"
    }
   ],
   "source": [
    "G_HP = np.matmul( np.linalg.inv( I_T + Lambda * np.matmul( np.transpose(K), K) ), Y)\n",
    "G_HP"
   ]
  },
  {
   "cell_type": "code",
   "execution_count": 14,
   "metadata": {},
   "outputs": [
    {
     "data": {
      "text/plain": [
       "array([ 9.83245650e+06,  9.44218409e+06,  8.99548377e+06,  8.46941871e+06,\n",
       "        7.85490078e+06,  7.31300509e+06,  6.62290558e+06,  5.96777577e+06,\n",
       "        4.58533322e+06,  3.35155222e+06,  2.84323364e+06,  2.36904524e+06,\n",
       "        2.01031960e+06,  1.59175507e+06,  1.25243630e+06,  1.08962365e+06,\n",
       "        6.75976387e+05,  5.42626516e+05,  4.14893359e+05,  3.84808449e+05,\n",
       "        2.26279423e+05,  7.61852929e+04, -7.51066353e+04, -2.34448991e+05,\n",
       "       -2.56060870e+05, -3.16636082e+05, -3.28255343e+05, -2.94068337e+05,\n",
       "       -1.43156833e+05, -4.59005181e+03,  4.10626212e+04, -9.17313513e+04,\n",
       "       -1.15407981e+05, -2.28448486e+05, -2.56231296e+05, -3.46941501e+05,\n",
       "       -4.55932544e+05, -3.77344032e+05, -3.23948933e+05, -3.21260374e+05,\n",
       "       -3.28483366e+05, -3.48629060e+05, -4.00245298e+05, -3.19521496e+05,\n",
       "       -2.11707338e+05, -4.93092769e+04, -1.34770228e+05, -3.82520781e+04,\n",
       "       -8.68565441e+04, -1.19144844e+05, -6.65110712e+04,  8.01367770e+04,\n",
       "        2.56504342e+05,  3.27964161e+05,  3.05030215e+05,  2.71896927e+05,\n",
       "        3.14363207e+05,  3.69662459e+05,  4.08314570e+05,  4.17188688e+05,\n",
       "        3.19559215e+05,  4.05872929e+05,  4.04171994e+05,  1.17821104e+05,\n",
       "       -6.86225496e+05, -9.53915477e+05, -5.59996272e+05, -3.73711813e+05,\n",
       "       -2.83526259e+05, -2.04557014e+05, -1.48008503e+05, -1.06906969e+05,\n",
       "       -7.27509820e+04, -9.88922640e+04,  9.95364818e+04,  1.11030300e+05,\n",
       "        9.68126952e+04,  1.31824498e+05,  1.25409320e+05,  1.52174804e+05,\n",
       "        9.84048909e+04, -1.25681747e+05, -8.14554297e+04, -1.05891798e+05,\n",
       "       -1.14052453e+05, -2.00332109e+04, -7.23344977e+04, -4.86717503e+02,\n",
       "       -2.15807256e+04,  4.16878669e+04,  1.38476347e+05,  2.46508065e+04,\n",
       "        2.12251198e+04, -8.37306566e+03,  8.17972820e+04,  1.82616388e+05,\n",
       "        1.70769003e+05,  1.34857095e+05, -1.45980619e+04,  1.09385824e+05,\n",
       "        2.66392395e+05,  1.36490910e+05,  1.11854962e+05,  4.45820451e+04,\n",
       "       -5.65760833e+04, -1.52307611e+05, -2.44042835e+05, -3.45213360e+05])"
      ]
     },
     "execution_count": 14,
     "metadata": {},
     "output_type": "execute_result"
    }
   ],
   "source": [
    "Ciclo = Y - G_HP\n",
    "Ciclo"
   ]
  },
  {
   "cell_type": "code",
   "execution_count": 15,
   "metadata": {},
   "outputs": [
    {
     "data": {
      "text/html": [
       "<div>\n",
       "<style scoped>\n",
       "    .dataframe tbody tr th:only-of-type {\n",
       "        vertical-align: middle;\n",
       "    }\n",
       "\n",
       "    .dataframe tbody tr th {\n",
       "        vertical-align: top;\n",
       "    }\n",
       "\n",
       "    .dataframe thead th {\n",
       "        text-align: right;\n",
       "    }\n",
       "</style>\n",
       "<table border=\"1\" class=\"dataframe\">\n",
       "  <thead>\n",
       "    <tr style=\"text-align: right;\">\n",
       "      <th></th>\n",
       "      <th>Periodo</th>\n",
       "      <th>PIB_MEX</th>\n",
       "      <th>Tendencia</th>\n",
       "      <th>Ciclo</th>\n",
       "    </tr>\n",
       "  </thead>\n",
       "  <tbody>\n",
       "    <tr>\n",
       "      <th>0</th>\n",
       "      <td>1993/01</td>\n",
       "      <td>10066121.86</td>\n",
       "      <td>2.336654e+05</td>\n",
       "      <td>9.832456e+06</td>\n",
       "    </tr>\n",
       "    <tr>\n",
       "      <th>1</th>\n",
       "      <td>1993/02</td>\n",
       "      <td>10092487.93</td>\n",
       "      <td>6.503038e+05</td>\n",
       "      <td>9.442184e+06</td>\n",
       "    </tr>\n",
       "    <tr>\n",
       "      <th>2</th>\n",
       "      <td>1993/03</td>\n",
       "      <td>10200852.22</td>\n",
       "      <td>1.205368e+06</td>\n",
       "      <td>8.995484e+06</td>\n",
       "    </tr>\n",
       "    <tr>\n",
       "      <th>3</th>\n",
       "      <td>1993/04</td>\n",
       "      <td>10329632.31</td>\n",
       "      <td>1.860214e+06</td>\n",
       "      <td>8.469419e+06</td>\n",
       "    </tr>\n",
       "    <tr>\n",
       "      <th>4</th>\n",
       "      <td>1994/01</td>\n",
       "      <td>10436716.63</td>\n",
       "      <td>2.581816e+06</td>\n",
       "      <td>7.854901e+06</td>\n",
       "    </tr>\n",
       "    <tr>\n",
       "      <th>...</th>\n",
       "      <td>...</td>\n",
       "      <td>...</td>\n",
       "      <td>...</td>\n",
       "      <td>...</td>\n",
       "    </tr>\n",
       "    <tr>\n",
       "      <th>103</th>\n",
       "      <td>2018/04</td>\n",
       "      <td>18590228.01</td>\n",
       "      <td>1.854565e+07</td>\n",
       "      <td>4.458205e+04</td>\n",
       "    </tr>\n",
       "    <tr>\n",
       "      <th>104</th>\n",
       "      <td>2019/01</td>\n",
       "      <td>18566766.49</td>\n",
       "      <td>1.862334e+07</td>\n",
       "      <td>-5.657608e+04</td>\n",
       "    </tr>\n",
       "    <tr>\n",
       "      <th>105</th>\n",
       "      <td>2019/02</td>\n",
       "      <td>18547684.05</td>\n",
       "      <td>1.869999e+07</td>\n",
       "      <td>-1.523076e+05</td>\n",
       "    </tr>\n",
       "    <tr>\n",
       "      <th>106</th>\n",
       "      <td>2019/03</td>\n",
       "      <td>18532013.87</td>\n",
       "      <td>1.877606e+07</td>\n",
       "      <td>-2.440428e+05</td>\n",
       "    </tr>\n",
       "    <tr>\n",
       "      <th>107</th>\n",
       "      <td>2019/04</td>\n",
       "      <td>18506692.63</td>\n",
       "      <td>1.885191e+07</td>\n",
       "      <td>-3.452134e+05</td>\n",
       "    </tr>\n",
       "  </tbody>\n",
       "</table>\n",
       "<p>108 rows × 4 columns</p>\n",
       "</div>"
      ],
      "text/plain": [
       "     Periodo      PIB_MEX     Tendencia         Ciclo\n",
       "0    1993/01  10066121.86  2.336654e+05  9.832456e+06\n",
       "1    1993/02  10092487.93  6.503038e+05  9.442184e+06\n",
       "2    1993/03  10200852.22  1.205368e+06  8.995484e+06\n",
       "3    1993/04  10329632.31  1.860214e+06  8.469419e+06\n",
       "4    1994/01  10436716.63  2.581816e+06  7.854901e+06\n",
       "..       ...          ...           ...           ...\n",
       "103  2018/04  18590228.01  1.854565e+07  4.458205e+04\n",
       "104  2019/01  18566766.49  1.862334e+07 -5.657608e+04\n",
       "105  2019/02  18547684.05  1.869999e+07 -1.523076e+05\n",
       "106  2019/03  18532013.87  1.877606e+07 -2.440428e+05\n",
       "107  2019/04  18506692.63  1.885191e+07 -3.452134e+05\n",
       "\n",
       "[108 rows x 4 columns]"
      ]
     },
     "execution_count": 15,
     "metadata": {},
     "output_type": "execute_result"
    }
   ],
   "source": [
    "Filtro_DF = pd.DataFrame( {'Periodo': PIB_df['Periodo'], \n",
    "                           'PIB_MEX': PIB_df['PIB_MEX'], \n",
    "                           'Tendencia': G_HP, \n",
    "                           'Ciclo': Ciclo} )\n",
    "Filtro_DF"
   ]
  },
  {
   "cell_type": "code",
   "execution_count": 16,
   "metadata": {},
   "outputs": [
    {
     "data": {
      "text/html": [
       "<div>\n",
       "<style scoped>\n",
       "    .dataframe tbody tr th:only-of-type {\n",
       "        vertical-align: middle;\n",
       "    }\n",
       "\n",
       "    .dataframe tbody tr th {\n",
       "        vertical-align: top;\n",
       "    }\n",
       "\n",
       "    .dataframe thead th {\n",
       "        text-align: right;\n",
       "    }\n",
       "</style>\n",
       "<table border=\"1\" class=\"dataframe\">\n",
       "  <thead>\n",
       "    <tr style=\"text-align: right;\">\n",
       "      <th></th>\n",
       "      <th>Periodo</th>\n",
       "      <th>PIB_MEX</th>\n",
       "      <th>Tendencia</th>\n",
       "      <th>Ciclo</th>\n",
       "    </tr>\n",
       "  </thead>\n",
       "  <tbody>\n",
       "    <tr>\n",
       "      <th>25</th>\n",
       "      <td>1999/02</td>\n",
       "      <td>12265454.45</td>\n",
       "      <td>1.258209e+07</td>\n",
       "      <td>-316636.081768</td>\n",
       "    </tr>\n",
       "    <tr>\n",
       "      <th>26</th>\n",
       "      <td>1999/03</td>\n",
       "      <td>12364920.60</td>\n",
       "      <td>1.269318e+07</td>\n",
       "      <td>-328255.343368</td>\n",
       "    </tr>\n",
       "    <tr>\n",
       "      <th>27</th>\n",
       "      <td>1999/04</td>\n",
       "      <td>12493022.47</td>\n",
       "      <td>1.278709e+07</td>\n",
       "      <td>-294068.336557</td>\n",
       "    </tr>\n",
       "    <tr>\n",
       "      <th>28</th>\n",
       "      <td>2000/01</td>\n",
       "      <td>12722924.59</td>\n",
       "      <td>1.286608e+07</td>\n",
       "      <td>-143156.833039</td>\n",
       "    </tr>\n",
       "    <tr>\n",
       "      <th>29</th>\n",
       "      <td>2000/02</td>\n",
       "      <td>12927620.25</td>\n",
       "      <td>1.293221e+07</td>\n",
       "      <td>-4590.051807</td>\n",
       "    </tr>\n",
       "    <tr>\n",
       "      <th>...</th>\n",
       "      <td>...</td>\n",
       "      <td>...</td>\n",
       "      <td>...</td>\n",
       "      <td>...</td>\n",
       "    </tr>\n",
       "    <tr>\n",
       "      <th>103</th>\n",
       "      <td>2018/04</td>\n",
       "      <td>18590228.01</td>\n",
       "      <td>1.854565e+07</td>\n",
       "      <td>44582.045071</td>\n",
       "    </tr>\n",
       "    <tr>\n",
       "      <th>104</th>\n",
       "      <td>2019/01</td>\n",
       "      <td>18566766.49</td>\n",
       "      <td>1.862334e+07</td>\n",
       "      <td>-56576.083281</td>\n",
       "    </tr>\n",
       "    <tr>\n",
       "      <th>105</th>\n",
       "      <td>2019/02</td>\n",
       "      <td>18547684.05</td>\n",
       "      <td>1.869999e+07</td>\n",
       "      <td>-152307.610781</td>\n",
       "    </tr>\n",
       "    <tr>\n",
       "      <th>106</th>\n",
       "      <td>2019/03</td>\n",
       "      <td>18532013.87</td>\n",
       "      <td>1.877606e+07</td>\n",
       "      <td>-244042.834809</td>\n",
       "    </tr>\n",
       "    <tr>\n",
       "      <th>107</th>\n",
       "      <td>2019/04</td>\n",
       "      <td>18506692.63</td>\n",
       "      <td>1.885191e+07</td>\n",
       "      <td>-345213.360487</td>\n",
       "    </tr>\n",
       "  </tbody>\n",
       "</table>\n",
       "<p>83 rows × 4 columns</p>\n",
       "</div>"
      ],
      "text/plain": [
       "     Periodo      PIB_MEX     Tendencia          Ciclo\n",
       "25   1999/02  12265454.45  1.258209e+07 -316636.081768\n",
       "26   1999/03  12364920.60  1.269318e+07 -328255.343368\n",
       "27   1999/04  12493022.47  1.278709e+07 -294068.336557\n",
       "28   2000/01  12722924.59  1.286608e+07 -143156.833039\n",
       "29   2000/02  12927620.25  1.293221e+07   -4590.051807\n",
       "..       ...          ...           ...            ...\n",
       "103  2018/04  18590228.01  1.854565e+07   44582.045071\n",
       "104  2019/01  18566766.49  1.862334e+07  -56576.083281\n",
       "105  2019/02  18547684.05  1.869999e+07 -152307.610781\n",
       "106  2019/03  18532013.87  1.877606e+07 -244042.834809\n",
       "107  2019/04  18506692.63  1.885191e+07 -345213.360487\n",
       "\n",
       "[83 rows x 4 columns]"
      ]
     },
     "execution_count": 16,
     "metadata": {},
     "output_type": "execute_result"
    }
   ],
   "source": [
    "# Seleccionamos los datos más ajustados:\n",
    "\n",
    "Filtro_DF_2 = Filtro_DF[25: ]\n",
    "Filtro_DF_2"
   ]
  },
  {
   "cell_type": "code",
   "execution_count": 17,
   "metadata": {},
   "outputs": [
    {
     "data": {
      "image/png": "[encoded data removed]",
      "text/plain": [
       "<Figure size 432x288 with 2 Axes>"
      ]
     },
     "metadata": {
      "needs_background": "light"
     },
     "output_type": "display_data"
    }
   ],
   "source": [
    "# Grafica:\n",
    "Time = Filtro_DF_2['Periodo']\n",
    "\n",
    "fig, axs = plt.subplots(2, sharex = True, sharey = False)\n",
    "fig.suptitle('Filtro HP Clásico')\n",
    "axs[0].plot(Time, np.log(Filtro_DF_2['PIB_MEX']), label = 'PIB MEX', color = 'red', linestyle = '-')\n",
    "axs[0].plot(Time, np.log(Filtro_DF_2['Tendencia']), label = 'Tendencia', color = 'blue', linestyle = '-')\n",
    "axs[0].legend()\n",
    "axs[1].plot(Time, Filtro_DF_2['Ciclo'], label = 'Ciclo', color = 'blue', linestyle = '-')\n",
    "axs[1].legend()\n",
    "\n",
    "# Save the Figure\n",
    "plt.savefig(\"HP_PIB_MX.png\")\n",
    "\n",
    "# Show the Figure\n",
    "plt.show()"
   ]
  },
  {
   "cell_type": "code",
   "execution_count": 18,
   "metadata": {},
   "outputs": [
    {
     "data": {
      "text/plain": [
       "0.0002517616835493242"
      ]
     },
     "execution_count": 18,
     "metadata": {},
     "output_type": "execute_result"
    }
   ],
   "source": [
    "# Calculo del F(Lamda):\n",
    "F_Lambda = np.matmul( np.matmul(np.transpose(G_HP), np.transpose(K)), np.matmul(K, G_HP) ) / np.matmul( np.transpose(Y - G_HP), (Y - G_HP) )\n",
    "F_Lambda"
   ]
  },
  {
   "cell_type": "code",
   "execution_count": 19,
   "metadata": {},
   "outputs": [],
   "source": [
    "Filtro_DF.to_csv('Filtro_HP_Mexico.csv', index = False)"
   ]
  },
  {
   "cell_type": "code",
   "execution_count": 20,
   "metadata": {},
   "outputs": [
    {
     "data": {
      "text/plain": [
       "0.0003630003156022131"
      ]
     },
     "execution_count": 20,
     "metadata": {},
     "output_type": "execute_result"
    }
   ],
   "source": [
    "# Determinar un Lambda Óptima:\n",
    "Lambda_ss = 1096#1419\n",
    "\n",
    "G_HP_ss = np.matmul( np.linalg.inv( I_T + Lambda_ss*np.matmul( np.transpose(K), K) ), Y)\n",
    "\n",
    "F_Lambda_ss = np.matmul( np.matmul(np.transpose(G_HP_ss), np.transpose(K)), np.matmul(K, G_HP_ss) ) / np.matmul( np.transpose(Y - G_HP_ss), (Y - G_HP_ss) )\n",
    "F_Lambda_ss"
   ]
  },
  {
   "cell_type": "markdown",
   "metadata": {},
   "source": [
    "### Hodrick-Prescott por el Método de Ajuste de Colas (St-Amant & van Norden)"
   ]
  },
  {
   "cell_type": "markdown",
   "metadata": {},
   "source": [
    "### Hodrick-Prescott planteado por St-Amant & van Norden"
   ]
  },
  {
   "cell_type": "markdown",
   "metadata": {},
   "source": [
    "Método modificado de HP consiste en minimizar los valores de la serie $\\{ \\tau_t \\}_{t=1}^T$:\n",
    "$$\\sum_{t=1}^T (y_t - \\tau_t)^2 + \\lambda \\sum_{t=2}^{T-1} [(\\tau_{t+1} - \\tau_t) - (\\tau_t - \\tau_{t-1})]^2 + \\lambda_{ss} \\sum_{t=T-j}^{T} [\\Delta \\tau_t - u_{ss}]$$\n",
    "\n",
    "Donde $\\lambda$ es una parámetro fijo (determinado ex-ante), $\\tau_t$ es un componente de tendencia de $y_t$, y los nuevos parámetros son $u_{ss}$ y $\\lambda_{ss}$ ajustadas por el procedimiento de Marcet y Ravn (2004).\n",
    "\n",
    "Este procedimiento asume que parte del filtro HP y que esta versión tiene el problema de pérdida de información al final y al principio de la muestra. La razón es que es un procedimeinto univariado que requiere de mucha información futura y pasada para mejorar el ajuste.\n",
    "\n",
    "El compoenente adicional al filtro HP es un componente de castigo por desviaciones de la tasa de crecimiento de largo plazo, $u_{ss}$.\n",
    "\n",
    "El proceso de selección de $\\lambda_{ss}$ es e propuesto por Marcet y Ravn (2004), el cual consiste en utilizar un $\\lambda$ convencional y el filtro HP convencional para estimar la siguiente función:\n",
    "$$F(\\lambda) = \\frac{\\sum_{t=2}^{T-1} ((\\tau_{t+1} - \\tau_t) - (\\tau_t - \\tau_{t-1}))^2}{\\sum_{t=1}^T (y_t - \\tau_t)^2}$$\n",
    "\n",
    "Entonces el valor de $\\lambda_{ss}$ será aquel que:\n",
    "$$F(\\lambda_{ss}) = \\frac{\\sum_{t=2}^{T-1} ((\\tau_{t+1} - \\tau_t) - (\\tau_t - \\tau_{t-1}))^2}{\\sum_{t=1}^T (y_t - \\tau_t)^2} = F(\\lambda)$$\n",
    "\n",
    "nota: Antón (2009) estimó $\\lambda_{ss} = 1096$ para datos trimestrales del PIB."
   ]
  },
  {
   "cell_type": "markdown",
   "metadata": {},
   "source": [
    "La forma matricial del filtro HP-SAVN es:\n",
    "$$(Y - G)'(Y - G) + \\lambda G' K' K G + \\lambda_{ss} (L^j G + \\overline{u}_{ss} M^j)$$\n",
    "\n",
    "Donde $L^j = (0, 0, \\ldots, 0, -1, 0, \\ldots, 0, 1)$, en el cual el valor $-1$ es en la posición $T-j-1$-ésima, y $M^j$ es un vector que toma valores de cero hasta antes de $T-j$ y de 1 después. \n",
    "\n",
    "La derivada de los anteriores:\n",
    "$$-2 Y + 2 G + \\lambda 2 K' K G + \\lambda_{ss} L'^j = 0$$\n",
    "\n",
    "Despejando:\n",
    "$$G_{SAVN} = \\frac{1}{2} [I_T + \\lambda K' K]^{-1} (2 Y - \\lambda_{ss} L'^j)$$\n",
    "\n",
    "$$G_{SAVN} = [I_T + \\lambda K' K]^{-1} Y - \\frac{1}{2} [I_T + \\lambda K' K]^{-1} \\lambda_{ss} L'^j$$\n",
    "\n",
    "Donde $G$ es el vector de tendencia, $Y$ es el vector de la serie de datos, $\\lambda$ es la constante tradicional, y $K$ es de dimensión $T \\times T$ y está dada por la expresión:\n",
    "\n",
    "$$K' = \n",
    "\\begin{pmatrix}\n",
    "1 & -2 & 1 & 0 & \\ldots & 0 \\\\\n",
    "0 & 1 & -2 & 1 & \\ldots & 0 \\\\\n",
    "\\vdots & \\vdots &  \\vdots &  \\vdots &  \\vdots &  \\vdots \\\\\n",
    "0 & 0 & 0 & 0 & \\ldots & 1 \\\\\n",
    "\\end{pmatrix}\n",
    "$$\n",
    "\n",
    "Dicho lo anterior, podemos modificar $F(\\lambda)$ para el filtro HP convencional como en forma matricial:\n",
    "$$F(\\lambda) = \\frac{G' K' K G}{(Y - G)'(Y - G)}$$"
   ]
  },
  {
   "cell_type": "code",
   "execution_count": 21,
   "metadata": {},
   "outputs": [
    {
     "data": {
      "text/plain": [
       "array([ 0.,  0.,  0.,  0.,  0.,  0.,  0.,  0.,  0.,  0.,  0.,  0.,  0.,\n",
       "        0.,  0.,  0.,  0.,  0.,  0.,  0.,  0.,  0.,  0.,  0.,  0.,  0.,\n",
       "        0.,  0.,  0.,  0.,  0.,  0.,  0.,  0.,  0.,  0.,  0.,  0.,  0.,\n",
       "        0.,  0.,  0.,  0.,  0.,  0.,  0.,  0.,  0.,  0.,  0.,  0.,  0.,\n",
       "        0.,  0.,  0.,  0.,  0.,  0.,  0.,  0.,  0.,  0.,  0.,  0.,  0.,\n",
       "        0.,  0.,  0.,  0.,  0.,  0.,  0.,  0.,  0.,  0.,  0.,  0.,  0.,\n",
       "        0.,  0.,  0.,  0.,  0.,  0.,  0.,  0.,  0.,  0.,  0.,  0.,  0.,\n",
       "        0.,  0.,  0.,  0.,  0.,  0.,  0.,  0.,  0.,  0.,  0.,  0., -1.,\n",
       "        0.,  0.,  0.,  1.])"
      ]
     },
     "execution_count": 21,
     "metadata": {},
     "output_type": "execute_result"
    }
   ],
   "source": [
    "# Definición de variables adicionales:\n",
    "Lambda = 1600\n",
    "\n",
    "j = 4\n",
    "L_j = np.zeros(T)\n",
    "L_j[T-1] = 1\n",
    "L_j[T-j-1] = -1\n",
    "L_j"
   ]
  },
  {
   "cell_type": "code",
   "execution_count": 22,
   "metadata": {},
   "outputs": [
    {
     "data": {
      "text/plain": [
       "array([  233665.36421196,   650303.83763119,  1205368.45056288,\n",
       "        1860213.59836995,  2581815.85377121,  3342445.17618025,\n",
       "        4119280.83799579,  4894072.73980018,  5652710.09816456,\n",
       "        6384811.98951641,  7082863.32354689,  7741443.73008495,\n",
       "        8356909.85998232,  8927099.0173657 ,  9451104.95611179,\n",
       "        9929016.27701766, 10361704.35357035, 10750721.57404   ,\n",
       "       11098042.81193826, 11405982.08234927, 11677112.70870597,\n",
       "       11914248.51972105, 12120344.76874554, 12298404.32493688,\n",
       "       12451383.11580327, 12582090.5382311 , 12693175.9510594 ,\n",
       "       12787090.81557201, 12866081.43345839, 12932210.31369201,\n",
       "       12987450.49221917, 13033772.13619637, 13073171.07690998,\n",
       "       13107585.81354247, 13138882.71527829, 13168785.37098711,\n",
       "       13198857.22496663, 13230444.88306386, 13264609.99327276,\n",
       "       13302178.36355409, 13343773.33377283, 13389817.45604799,\n",
       "       13440527.98038368, 13495904.26361153, 13555695.50924414,\n",
       "       13619451.21985437, 13686588.58092803, 13756493.95965729,\n",
       "       13828469.49185248, 13901793.40579289, 13975689.64444414,\n",
       "       14049307.68528073, 14121755.43640564, 14192190.89146856,\n",
       "       14259932.35940889, 14324503.12685889, 14385617.12444494,\n",
       "       14443158.21850161, 14497206.75251697, 14548074.10918627,\n",
       "       14596326.8680032 , 14642792.3516057 , 14688497.6073767 ,\n",
       "       14734723.35353564, 14783002.91607236, 14834943.25945574,\n",
       "       14891722.4575196 , 14953922.38722937, 15021774.92818328,\n",
       "       15095278.39038754, 15174253.88020576, 15258394.65610126,\n",
       "       15347301.47140601, 15440508.26271065, 15537503.49726744,\n",
       "       15637713.83457698, 15740628.14421654, 15845804.68931058,\n",
       "       15952862.2403309 , 16061501.95724349, 16171503.3797579 ,\n",
       "       16282741.15545411, 16395151.43324979, 16508591.80887792,\n",
       "       16622868.96592572, 16737723.40266234, 16852824.33115948,\n",
       "       16967828.43882469, 17082347.19958975, 17195991.7782622 ,\n",
       "       17308359.84626858, 17419075.12404903, 17527847.87342723,\n",
       "       17634403.75628689, 17738481.69325326, 17839815.36469144,\n",
       "       17938189.56720201, 18033503.22579511, 18125761.98975762,\n",
       "       18215055.78849157, 18301465.4231741 , 18385140.05822707,\n",
       "       18466395.35243282, 18545632.2730436 , 18623321.70144136,\n",
       "       18699962.73384363, 18776019.11946084, 18851859.43332596])"
      ]
     },
     "execution_count": 22,
     "metadata": {},
     "output_type": "execute_result"
    }
   ],
   "source": [
    "# Filtro Ajustado a colas\n",
    "\n",
    "G_HP_SAVN = (1/2) * np.matmul( np.linalg.inv( I_T + Lambda * np.matmul( np.transpose(K), K) ), ( 2 * Y - Lambda_ss*L_j ) ) \n",
    "\n",
    "G_HP_SAVN"
   ]
  },
  {
   "cell_type": "code",
   "execution_count": 23,
   "metadata": {},
   "outputs": [
    {
     "data": {
      "text/plain": [
       "array([ 9.83245650e+06,  9.44218409e+06,  8.99548377e+06,  8.46941871e+06,\n",
       "        7.85490078e+06,  7.31300509e+06,  6.62290558e+06,  5.96777577e+06,\n",
       "        4.58533322e+06,  3.35155222e+06,  2.84323364e+06,  2.36904524e+06,\n",
       "        2.01031960e+06,  1.59175507e+06,  1.25243630e+06,  1.08962365e+06,\n",
       "        6.75976386e+05,  5.42626516e+05,  4.14893358e+05,  3.84808448e+05,\n",
       "        2.26279421e+05,  7.61852903e+04, -7.51066387e+04, -2.34448995e+05,\n",
       "       -2.56060876e+05, -3.16636088e+05, -3.28255351e+05, -2.94068346e+05,\n",
       "       -1.43156843e+05, -4.59006369e+03,  4.10626078e+04, -9.17313662e+04,\n",
       "       -1.15407997e+05, -2.28448504e+05, -2.56231315e+05, -3.46941521e+05,\n",
       "       -4.55932565e+05, -3.77344053e+05, -3.23948953e+05, -3.21260394e+05,\n",
       "       -3.28483384e+05, -3.48629076e+05, -4.00245310e+05, -3.19521504e+05,\n",
       "       -2.11707339e+05, -4.93092699e+04, -1.34770211e+05, -3.82520497e+04,\n",
       "       -8.68565019e+04, -1.19144786e+05, -6.65109944e+04,  8.01368747e+04,\n",
       "        2.56504464e+05,  3.27964309e+05,  3.05030391e+05,  2.71897133e+05,\n",
       "        3.14363446e+05,  3.69662731e+05,  4.08314877e+05,  4.17189031e+05,\n",
       "        3.19559592e+05,  4.05873338e+05,  4.04172433e+05,  1.17821566e+05,\n",
       "       -6.86225016e+05, -9.53914989e+05, -5.59995788e+05, -3.73711347e+05,\n",
       "       -2.83525828e+05, -2.04556640e+05, -1.48008210e+05, -1.06906786e+05,\n",
       "       -7.27509414e+04, -9.88924027e+04,  9.95361227e+04,  1.11029675e+05,\n",
       "        9.68117558e+04,  1.31823191e+05,  1.25407590e+05,  1.52172593e+05,\n",
       "        9.84021402e+04, -1.25685095e+05, -8.14594332e+04, -1.05896509e+05,\n",
       "       -1.14057916e+05, -2.00394627e+04, -7.23415612e+04, -4.94598825e+02,\n",
       "       -2.15894096e+04,  4.16784217e+04,  1.38466214e+05,  2.46400960e+04,\n",
       "        2.12139866e+04, -8.38441629e+03,  8.17859767e+04,  1.82605455e+05,\n",
       "        1.70758843e+05,  1.34848184e+05, -1.46051598e+04,  1.09381192e+05,\n",
       "        2.66390977e+05,  1.36493552e+05,  1.11862608e+05,  4.45957370e+04,\n",
       "       -5.65552114e+04, -1.52278684e+05, -2.44005249e+05, -3.45166803e+05])"
      ]
     },
     "execution_count": 23,
     "metadata": {},
     "output_type": "execute_result"
    }
   ],
   "source": [
    "Ciclo_SAVN = Y - G_HP_SAVN\n",
    "Ciclo_SAVN"
   ]
  },
  {
   "cell_type": "code",
   "execution_count": 24,
   "metadata": {},
   "outputs": [
    {
     "data": {
      "text/html": [
       "<div>\n",
       "<style scoped>\n",
       "    .dataframe tbody tr th:only-of-type {\n",
       "        vertical-align: middle;\n",
       "    }\n",
       "\n",
       "    .dataframe tbody tr th {\n",
       "        vertical-align: top;\n",
       "    }\n",
       "\n",
       "    .dataframe thead th {\n",
       "        text-align: right;\n",
       "    }\n",
       "</style>\n",
       "<table border=\"1\" class=\"dataframe\">\n",
       "  <thead>\n",
       "    <tr style=\"text-align: right;\">\n",
       "      <th></th>\n",
       "      <th>Periodo</th>\n",
       "      <th>PIB_MEX</th>\n",
       "      <th>Tendencia</th>\n",
       "      <th>Ciclo</th>\n",
       "      <th>Tendencia_SAVN</th>\n",
       "      <th>Ciclo_SAVN</th>\n",
       "    </tr>\n",
       "  </thead>\n",
       "  <tbody>\n",
       "    <tr>\n",
       "      <th>0</th>\n",
       "      <td>1993/01</td>\n",
       "      <td>10066121.86</td>\n",
       "      <td>2.336654e+05</td>\n",
       "      <td>9.832456e+06</td>\n",
       "      <td>2.336654e+05</td>\n",
       "      <td>9.832456e+06</td>\n",
       "    </tr>\n",
       "    <tr>\n",
       "      <th>1</th>\n",
       "      <td>1993/02</td>\n",
       "      <td>10092487.93</td>\n",
       "      <td>6.503038e+05</td>\n",
       "      <td>9.442184e+06</td>\n",
       "      <td>6.503038e+05</td>\n",
       "      <td>9.442184e+06</td>\n",
       "    </tr>\n",
       "    <tr>\n",
       "      <th>2</th>\n",
       "      <td>1993/03</td>\n",
       "      <td>10200852.22</td>\n",
       "      <td>1.205368e+06</td>\n",
       "      <td>8.995484e+06</td>\n",
       "      <td>1.205368e+06</td>\n",
       "      <td>8.995484e+06</td>\n",
       "    </tr>\n",
       "    <tr>\n",
       "      <th>3</th>\n",
       "      <td>1993/04</td>\n",
       "      <td>10329632.31</td>\n",
       "      <td>1.860214e+06</td>\n",
       "      <td>8.469419e+06</td>\n",
       "      <td>1.860214e+06</td>\n",
       "      <td>8.469419e+06</td>\n",
       "    </tr>\n",
       "    <tr>\n",
       "      <th>4</th>\n",
       "      <td>1994/01</td>\n",
       "      <td>10436716.63</td>\n",
       "      <td>2.581816e+06</td>\n",
       "      <td>7.854901e+06</td>\n",
       "      <td>2.581816e+06</td>\n",
       "      <td>7.854901e+06</td>\n",
       "    </tr>\n",
       "    <tr>\n",
       "      <th>...</th>\n",
       "      <td>...</td>\n",
       "      <td>...</td>\n",
       "      <td>...</td>\n",
       "      <td>...</td>\n",
       "      <td>...</td>\n",
       "      <td>...</td>\n",
       "    </tr>\n",
       "    <tr>\n",
       "      <th>103</th>\n",
       "      <td>2018/04</td>\n",
       "      <td>18590228.01</td>\n",
       "      <td>1.854565e+07</td>\n",
       "      <td>4.458205e+04</td>\n",
       "      <td>1.854563e+07</td>\n",
       "      <td>4.459574e+04</td>\n",
       "    </tr>\n",
       "    <tr>\n",
       "      <th>104</th>\n",
       "      <td>2019/01</td>\n",
       "      <td>18566766.49</td>\n",
       "      <td>1.862334e+07</td>\n",
       "      <td>-5.657608e+04</td>\n",
       "      <td>1.862332e+07</td>\n",
       "      <td>-5.655521e+04</td>\n",
       "    </tr>\n",
       "    <tr>\n",
       "      <th>105</th>\n",
       "      <td>2019/02</td>\n",
       "      <td>18547684.05</td>\n",
       "      <td>1.869999e+07</td>\n",
       "      <td>-1.523076e+05</td>\n",
       "      <td>1.869996e+07</td>\n",
       "      <td>-1.522787e+05</td>\n",
       "    </tr>\n",
       "    <tr>\n",
       "      <th>106</th>\n",
       "      <td>2019/03</td>\n",
       "      <td>18532013.87</td>\n",
       "      <td>1.877606e+07</td>\n",
       "      <td>-2.440428e+05</td>\n",
       "      <td>1.877602e+07</td>\n",
       "      <td>-2.440052e+05</td>\n",
       "    </tr>\n",
       "    <tr>\n",
       "      <th>107</th>\n",
       "      <td>2019/04</td>\n",
       "      <td>18506692.63</td>\n",
       "      <td>1.885191e+07</td>\n",
       "      <td>-3.452134e+05</td>\n",
       "      <td>1.885186e+07</td>\n",
       "      <td>-3.451668e+05</td>\n",
       "    </tr>\n",
       "  </tbody>\n",
       "</table>\n",
       "<p>108 rows × 6 columns</p>\n",
       "</div>"
      ],
      "text/plain": [
       "     Periodo      PIB_MEX     Tendencia         Ciclo  Tendencia_SAVN  \\\n",
       "0    1993/01  10066121.86  2.336654e+05  9.832456e+06    2.336654e+05   \n",
       "1    1993/02  10092487.93  6.503038e+05  9.442184e+06    6.503038e+05   \n",
       "2    1993/03  10200852.22  1.205368e+06  8.995484e+06    1.205368e+06   \n",
       "3    1993/04  10329632.31  1.860214e+06  8.469419e+06    1.860214e+06   \n",
       "4    1994/01  10436716.63  2.581816e+06  7.854901e+06    2.581816e+06   \n",
       "..       ...          ...           ...           ...             ...   \n",
       "103  2018/04  18590228.01  1.854565e+07  4.458205e+04    1.854563e+07   \n",
       "104  2019/01  18566766.49  1.862334e+07 -5.657608e+04    1.862332e+07   \n",
       "105  2019/02  18547684.05  1.869999e+07 -1.523076e+05    1.869996e+07   \n",
       "106  2019/03  18532013.87  1.877606e+07 -2.440428e+05    1.877602e+07   \n",
       "107  2019/04  18506692.63  1.885191e+07 -3.452134e+05    1.885186e+07   \n",
       "\n",
       "       Ciclo_SAVN  \n",
       "0    9.832456e+06  \n",
       "1    9.442184e+06  \n",
       "2    8.995484e+06  \n",
       "3    8.469419e+06  \n",
       "4    7.854901e+06  \n",
       "..            ...  \n",
       "103  4.459574e+04  \n",
       "104 -5.655521e+04  \n",
       "105 -1.522787e+05  \n",
       "106 -2.440052e+05  \n",
       "107 -3.451668e+05  \n",
       "\n",
       "[108 rows x 6 columns]"
      ]
     },
     "execution_count": 24,
     "metadata": {},
     "output_type": "execute_result"
    }
   ],
   "source": [
    "Filtro_SAVN_DF = pd.DataFrame( {'Periodo': PIB_df['Periodo'], \n",
    "                                'PIB_MEX': PIB_df['PIB_MEX'], \n",
    "                                'Tendencia': G_HP, \n",
    "                                'Ciclo': Ciclo,\n",
    "                                'Tendencia_SAVN': G_HP_SAVN, \n",
    "                                'Ciclo_SAVN' :Ciclo_SAVN})\n",
    "\n",
    "Filtro_SAVN_DF"
   ]
  },
  {
   "cell_type": "code",
   "execution_count": 25,
   "metadata": {},
   "outputs": [
    {
     "data": {
      "text/html": [
       "<div>\n",
       "<style scoped>\n",
       "    .dataframe tbody tr th:only-of-type {\n",
       "        vertical-align: middle;\n",
       "    }\n",
       "\n",
       "    .dataframe tbody tr th {\n",
       "        vertical-align: top;\n",
       "    }\n",
       "\n",
       "    .dataframe thead th {\n",
       "        text-align: right;\n",
       "    }\n",
       "</style>\n",
       "<table border=\"1\" class=\"dataframe\">\n",
       "  <thead>\n",
       "    <tr style=\"text-align: right;\">\n",
       "      <th></th>\n",
       "      <th>Periodo</th>\n",
       "      <th>PIB_MEX</th>\n",
       "      <th>Tendencia</th>\n",
       "      <th>Ciclo</th>\n",
       "      <th>Tendencia_SAVN</th>\n",
       "      <th>Ciclo_SAVN</th>\n",
       "    </tr>\n",
       "  </thead>\n",
       "  <tbody>\n",
       "    <tr>\n",
       "      <th>25</th>\n",
       "      <td>1999/02</td>\n",
       "      <td>12265454.45</td>\n",
       "      <td>1.258209e+07</td>\n",
       "      <td>-316636.081768</td>\n",
       "      <td>1.258209e+07</td>\n",
       "      <td>-316636.088231</td>\n",
       "    </tr>\n",
       "    <tr>\n",
       "      <th>26</th>\n",
       "      <td>1999/03</td>\n",
       "      <td>12364920.60</td>\n",
       "      <td>1.269318e+07</td>\n",
       "      <td>-328255.343368</td>\n",
       "      <td>1.269318e+07</td>\n",
       "      <td>-328255.351059</td>\n",
       "    </tr>\n",
       "    <tr>\n",
       "      <th>27</th>\n",
       "      <td>1999/04</td>\n",
       "      <td>12493022.47</td>\n",
       "      <td>1.278709e+07</td>\n",
       "      <td>-294068.336557</td>\n",
       "      <td>1.278709e+07</td>\n",
       "      <td>-294068.345572</td>\n",
       "    </tr>\n",
       "    <tr>\n",
       "      <th>28</th>\n",
       "      <td>2000/01</td>\n",
       "      <td>12722924.59</td>\n",
       "      <td>1.286608e+07</td>\n",
       "      <td>-143156.833039</td>\n",
       "      <td>1.286608e+07</td>\n",
       "      <td>-143156.843458</td>\n",
       "    </tr>\n",
       "    <tr>\n",
       "      <th>29</th>\n",
       "      <td>2000/02</td>\n",
       "      <td>12927620.25</td>\n",
       "      <td>1.293221e+07</td>\n",
       "      <td>-4590.051807</td>\n",
       "      <td>1.293221e+07</td>\n",
       "      <td>-4590.063692</td>\n",
       "    </tr>\n",
       "    <tr>\n",
       "      <th>...</th>\n",
       "      <td>...</td>\n",
       "      <td>...</td>\n",
       "      <td>...</td>\n",
       "      <td>...</td>\n",
       "      <td>...</td>\n",
       "      <td>...</td>\n",
       "    </tr>\n",
       "    <tr>\n",
       "      <th>103</th>\n",
       "      <td>2018/04</td>\n",
       "      <td>18590228.01</td>\n",
       "      <td>1.854565e+07</td>\n",
       "      <td>44582.045071</td>\n",
       "      <td>1.854563e+07</td>\n",
       "      <td>44595.736956</td>\n",
       "    </tr>\n",
       "    <tr>\n",
       "      <th>104</th>\n",
       "      <td>2019/01</td>\n",
       "      <td>18566766.49</td>\n",
       "      <td>1.862334e+07</td>\n",
       "      <td>-56576.083281</td>\n",
       "      <td>1.862332e+07</td>\n",
       "      <td>-56555.211441</td>\n",
       "    </tr>\n",
       "    <tr>\n",
       "      <th>105</th>\n",
       "      <td>2019/02</td>\n",
       "      <td>18547684.05</td>\n",
       "      <td>1.869999e+07</td>\n",
       "      <td>-152307.610781</td>\n",
       "      <td>1.869996e+07</td>\n",
       "      <td>-152278.683844</td>\n",
       "    </tr>\n",
       "    <tr>\n",
       "      <th>106</th>\n",
       "      <td>2019/03</td>\n",
       "      <td>18532013.87</td>\n",
       "      <td>1.877606e+07</td>\n",
       "      <td>-244042.834809</td>\n",
       "      <td>1.877602e+07</td>\n",
       "      <td>-244005.249461</td>\n",
       "    </tr>\n",
       "    <tr>\n",
       "      <th>107</th>\n",
       "      <td>2019/04</td>\n",
       "      <td>18506692.63</td>\n",
       "      <td>1.885191e+07</td>\n",
       "      <td>-345213.360487</td>\n",
       "      <td>1.885186e+07</td>\n",
       "      <td>-345166.803326</td>\n",
       "    </tr>\n",
       "  </tbody>\n",
       "</table>\n",
       "<p>83 rows × 6 columns</p>\n",
       "</div>"
      ],
      "text/plain": [
       "     Periodo      PIB_MEX     Tendencia          Ciclo  Tendencia_SAVN  \\\n",
       "25   1999/02  12265454.45  1.258209e+07 -316636.081768    1.258209e+07   \n",
       "26   1999/03  12364920.60  1.269318e+07 -328255.343368    1.269318e+07   \n",
       "27   1999/04  12493022.47  1.278709e+07 -294068.336557    1.278709e+07   \n",
       "28   2000/01  12722924.59  1.286608e+07 -143156.833039    1.286608e+07   \n",
       "29   2000/02  12927620.25  1.293221e+07   -4590.051807    1.293221e+07   \n",
       "..       ...          ...           ...            ...             ...   \n",
       "103  2018/04  18590228.01  1.854565e+07   44582.045071    1.854563e+07   \n",
       "104  2019/01  18566766.49  1.862334e+07  -56576.083281    1.862332e+07   \n",
       "105  2019/02  18547684.05  1.869999e+07 -152307.610781    1.869996e+07   \n",
       "106  2019/03  18532013.87  1.877606e+07 -244042.834809    1.877602e+07   \n",
       "107  2019/04  18506692.63  1.885191e+07 -345213.360487    1.885186e+07   \n",
       "\n",
       "        Ciclo_SAVN  \n",
       "25  -316636.088231  \n",
       "26  -328255.351059  \n",
       "27  -294068.345572  \n",
       "28  -143156.843458  \n",
       "29    -4590.063692  \n",
       "..             ...  \n",
       "103   44595.736956  \n",
       "104  -56555.211441  \n",
       "105 -152278.683844  \n",
       "106 -244005.249461  \n",
       "107 -345166.803326  \n",
       "\n",
       "[83 rows x 6 columns]"
      ]
     },
     "execution_count": 25,
     "metadata": {},
     "output_type": "execute_result"
    }
   ],
   "source": [
    "# Seleccionamos los datos más ajustados:\n",
    "\n",
    "Filtro_SAVN_DF_2 = Filtro_SAVN_DF[25: ]\n",
    "Filtro_SAVN_DF_2"
   ]
  },
  {
   "cell_type": "code",
   "execution_count": 26,
   "metadata": {},
   "outputs": [
    {
     "data": {
      "image/png": "[encoded data removed]",
      "text/plain": [
       "<Figure size 432x288 with 2 Axes>"
      ]
     },
     "metadata": {
      "needs_background": "light"
     },
     "output_type": "display_data"
    }
   ],
   "source": [
    "# Gráfica:\n",
    "Time = Filtro_SAVN_DF_2['Periodo']\n",
    "\n",
    "fig, axs = plt.subplots(2, sharex = True, sharey = False)\n",
    "fig.suptitle('Filtro HP Clásico')\n",
    "axs[0].plot(Time, Filtro_SAVN_DF_2['PIB_MEX'], label = 'PIB MEX', color = 'red', linestyle = '-')\n",
    "axs[0].plot(Time, Filtro_SAVN_DF_2['Tendencia'], label = 'Tendencia', color = 'blue', linestyle = '-')\n",
    "axs[0].plot(Time, Filtro_SAVN_DF_2['Tendencia_SAVN'], label = 'Tendencia SAVN', color = 'green', linestyle = '-')\n",
    "axs[0].legend()\n",
    "axs[1].plot(Time, Filtro_SAVN_DF_2['Ciclo'], label = 'Ciclo', color = 'blue', linestyle = '-')\n",
    "axs[1].plot(Time, Filtro_SAVN_DF_2['Ciclo_SAVN'], label = 'Ciclo SAVN', color = 'green', linestyle = '-')\n",
    "axs[1].legend()\n",
    "\n",
    "# Save the Figure\n",
    "plt.savefig(\"HP_PIB_MX_SAVN.png\")\n",
    "\n",
    "# Show the Figure\n",
    "plt.show()"
   ]
  },
  {
   "cell_type": "code",
   "execution_count": 27,
   "metadata": {},
   "outputs": [
    {
     "data": {
      "image/png": "[encoded data removed]",
      "text/plain": [
       "<Figure size 432x288 with 2 Axes>"
      ]
     },
     "metadata": {
      "needs_background": "light"
     },
     "output_type": "display_data"
    }
   ],
   "source": [
    "# Gráfica sólo Ciclo:\n",
    "Time = Filtro_SAVN_DF_2['Periodo']\n",
    "\n",
    "fig, axs = plt.subplots(2, sharex = True, sharey = False)\n",
    "fig.suptitle('Filtro HP Clásico Vs SAVN')\n",
    "\n",
    "axs[0].plot(Time, Filtro_SAVN_DF_2['Ciclo'], label = 'Ciclo', color = 'blue', linestyle = '-')\n",
    "axs[1].plot(Time, Filtro_SAVN_DF_2['Ciclo_SAVN'], label = 'Ciclo SAVN', color = 'green', linestyle = '-')\n",
    "\n",
    "\n",
    "# Save the Figure\n",
    "plt.savefig(\"CICLO_PIB_MX_SAVN.png\")\n",
    "\n",
    "# Show the Figure\n",
    "plt.show()"
   ]
  },
  {
   "cell_type": "code",
   "execution_count": null,
   "metadata": {},
   "outputs": [],
   "source": []
  }
 ],
 "metadata": {
  "kernelspec": {
   "display_name": "Python 3 (ipykernel)",
   "language": "python",
   "name": "python3"
  },
  "language_info": {
   "codemirror_mode": {
    "name": "ipython",
    "version": 3
   },
   "file_extension": ".py",
   "mimetype": "text/x-python",
   "name": "python",
   "nbconvert_exporter": "python",
   "pygments_lexer": "ipython3",
   "version": "3.10.4"
  }
 },
 "nbformat": 4,
 "nbformat_minor": 2
}
