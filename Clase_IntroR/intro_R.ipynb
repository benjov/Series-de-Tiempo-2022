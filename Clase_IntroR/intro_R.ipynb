{
  "nbformat": 4,
  "nbformat_minor": 0,
  "metadata": {
    "colab": {
      "name": "Untitled2.ipynb",
      "provenance": [],
      "collapsed_sections": []
    },
    "kernelspec": {
      "name": "python3",
      "display_name": "Python 3"
    },
    "language_info": {
      "name": "python"
    }
  },
  "cells": [
    {
      "cell_type": "markdown",
      "metadata": {
        "id": "3PMHctsOAClD"
      },
      "source": [
        "# Introducción a R\n",
        "Benjamín Oliva & Omar Alfaro-Rivera"
      ]
    },
    {
      "cell_type": "code",
      "metadata": {
        "id": "EzzDte2s_12l"
      },
      "source": [
        "%load_ext rpy2.ipython\n"
      ],
      "execution_count": 1,
      "outputs": []
    },
    {
      "cell_type": "markdown",
      "metadata": {
        "id": "PT7y6f7gAagA"
      },
      "source": [
        "## Algunas reglas importantes"
      ]
    },
    {
      "cell_type": "markdown",
      "metadata": {
        "id": "6-nZWHX_AQvK"
      },
      "source": [
        "1. R es case sensitive, lo que significa que __distingue entre minusculas y mayusculas__\n",
        "2. Para __ejecutar una linea__ de comando se utiliza \"Ctrl + Enter\"\n",
        "3. Utilizar _\";\"_ funciona para realizar más de una tarea en la misma línea de código\n",
        "4. En R existen un conjunto de __palabras reservadas__, como lo son: break, for, function, if, in, next, repeat, return, while, True, False, y algunas otras\n"
      ]
    },
    {
      "cell_type": "markdown",
      "metadata": {
        "id": "yCKWnR9sAgbn"
      },
      "source": [
        "## Objetos\n",
        "\n",
        "### Clases de objetos\n",
        "\n",
        "\n",
        "Como ya se ha tenido la oportunidad se señalar, un hecho fundamental de la programación en R es contar con un buen manejo de los distintos tipos de objetos y sus propiedades. Estos son los tipos de objetos básicos\n",
        "\n",
        "* character: Es un tipo de objeto cuya información es interpretada como texto\n",
        "* numeric: números reales\n",
        "* logic : TRUE/FALSE, objetos que son producto de realizar una evaluación de tipo lógica\n",
        "* integer: números enteros\n",
        "* complex:  números complejos\n"
      ]
    },
    {
      "cell_type": "code",
      "metadata": {
        "colab": {
          "base_uri": "https://localhost:8080/"
        },
        "id": "l0YnJ2SZAoKV",
        "outputId": "70e5c85a-645e-474e-a96b-41ea4e62af4a"
      },
      "source": [
        "%%R\n",
        "class(\"R\")"
      ],
      "execution_count": 5,
      "outputs": [
        {
          "output_type": "stream",
          "name": "stdout",
          "text": [
            "[1] \"integer\"\n"
          ]
        }
      ]
    },
    {
      "cell_type": "code",
      "metadata": {
        "colab": {
          "base_uri": "https://localhost:8080/"
        },
        "id": "IYMfs-heAvhr",
        "outputId": "2ce564bb-dec1-4024-9090-122ad8e0c87f"
      },
      "source": [
        "%%R\n",
        "class(56)"
      ],
      "execution_count": 6,
      "outputs": [
        {
          "output_type": "stream",
          "name": "stdout",
          "text": [
            "[1] \"numeric\"\n"
          ]
        }
      ]
    },
    {
      "cell_type": "code",
      "metadata": {
        "colab": {
          "base_uri": "https://localhost:8080/"
        },
        "id": "5W5WNcZCAx46",
        "outputId": "6b11bb88-fc33-4a39-e966-74ed2ae41990"
      },
      "source": [
        "%%R\n",
        "class(\"R\">\"Python\")\n"
      ],
      "execution_count": 7,
      "outputs": [
        {
          "output_type": "stream",
          "name": "stdout",
          "text": [
            "[1] \"logical\"\n"
          ]
        }
      ]
    },
    {
      "cell_type": "code",
      "metadata": {
        "colab": {
          "base_uri": "https://localhost:8080/"
        },
        "id": "yrSma45FA2Zt",
        "outputId": "79eb093d-b01b-4e56-9a7a-6afb4d4bfcae"
      },
      "source": [
        "%%R\n",
        "class(as.integer(2))\n"
      ],
      "execution_count": 8,
      "outputs": [
        {
          "output_type": "stream",
          "name": "stdout",
          "text": [
            "[1] \"integer\"\n"
          ]
        }
      ]
    },
    {
      "cell_type": "code",
      "metadata": {
        "colab": {
          "base_uri": "https://localhost:8080/"
        },
        "id": "n9uCGMijA3pk",
        "outputId": "6f9a5e97-781b-4eab-982b-453ce71b4279"
      },
      "source": [
        "%%R\n",
        "sqrt(5)*as.complex(1)"
      ],
      "execution_count": 9,
      "outputs": [
        {
          "output_type": "stream",
          "name": "stdout",
          "text": [
            "[1] 2.236068+0i\n"
          ]
        }
      ]
    },
    {
      "cell_type": "markdown",
      "metadata": {
        "id": "ZHKQ_PA3A9ig"
      },
      "source": [
        "### Asignación e impresión de objetos \n",
        "\n",
        "Otra cuestión importante es que la información que nosotros tenemos en R, es necesario _asignarle un nombre_, a esto le llamamos asignación de objetos y lo hacemos mediante el símbolo \"<-\" o \"=\"\n",
        "\n"
      ]
    },
    {
      "cell_type": "code",
      "metadata": {
        "colab": {
          "base_uri": "https://localhost:8080/"
        },
        "id": "XvqqKbANBnsL",
        "outputId": "bda10680-11ab-4429-d451-214c1ae7af15"
      },
      "source": [
        "%%R\n",
        "ObjetoGuardado = 5 \n",
        "#Forma tradicional de imprimir en R\n",
        "print(ObjetoGuardado)\n"
      ],
      "execution_count": 10,
      "outputs": [
        {
          "output_type": "stream",
          "name": "stdout",
          "text": [
            "[1] 5\n"
          ]
        }
      ]
    },
    {
      "cell_type": "code",
      "metadata": {
        "colab": {
          "base_uri": "https://localhost:8080/"
        },
        "id": "OFhIFYGLBqFP",
        "outputId": "704e70bd-d35b-4e81-80e3-ef5cb443cd55"
      },
      "source": [
        "%%R \n",
        "ObjetoGuardado"
      ],
      "execution_count": 11,
      "outputs": [
        {
          "output_type": "stream",
          "name": "stdout",
          "text": [
            "[1] 5\n"
          ]
        }
      ]
    },
    {
      "cell_type": "markdown",
      "metadata": {
        "id": "HiF-UfsNBnWL"
      },
      "source": [
        "### Objetos de tipo funciones\n",
        "\n",
        "Un tipo muy peculiar de objeto son las funciones, ya que estos objetos operan sobre otros objetos para generar un producto\n"
      ]
    },
    {
      "cell_type": "code",
      "metadata": {
        "colab": {
          "base_uri": "https://localhost:8080/"
        },
        "id": "ZbUf5JbXB0iL",
        "outputId": "47ed4bef-d1d7-4ef8-e088-f000f44ce467"
      },
      "source": [
        "%%R\n",
        "\n",
        "class(as.numeric)\n"
      ],
      "execution_count": 12,
      "outputs": [
        {
          "output_type": "stream",
          "name": "stdout",
          "text": [
            "[1] \"function\"\n"
          ]
        }
      ]
    },
    {
      "cell_type": "markdown",
      "metadata": {
        "id": "lTPn8Np8B2ex"
      },
      "source": [
        "Lo que declaramos dentro de la función se conoce como argumentos, que basicamente nos ayudan a definir sobre qué objeto debe operar la función y el modo en que queremos que actúe. En muchos casos algunos argumentos están obviados, pero es posible ajustarlos a lo que deseamos."
      ]
    },
    {
      "cell_type": "code",
      "metadata": {
        "colab": {
          "base_uri": "https://localhost:8080/"
        },
        "id": "7NRlGl7JB51b",
        "outputId": "19bcc904-e9cd-418f-8bb9-f37b01f41195"
      },
      "source": [
        "%%R\n",
        "pi\n",
        "round(pi)\n",
        "args(round)\n",
        "round(pi,2)"
      ],
      "execution_count": 13,
      "outputs": [
        {
          "output_type": "stream",
          "name": "stdout",
          "text": [
            "[1] 3.14\n"
          ]
        }
      ]
    },
    {
      "cell_type": "markdown",
      "metadata": {
        "id": "X_4NVW3MCE_b"
      },
      "source": [
        "### Operadores Matemáticos\n",
        "\n",
        "Los operadores matemáticos en R son en algunos casos un tanto distinto a la manera en que estamos acostumbrados a observarlos, pero en muchos otros casos son muy intuitivos: \n",
        "\n",
        "* suma y resta: +,-\n",
        "* multiplicación y división: *,/\n",
        "* potencia y raíz cuadrada: **,sqrt()\n",
        "* exponencial y logaritmo: exp(), log()\n"
      ]
    },
    {
      "cell_type": "code",
      "metadata": {
        "colab": {
          "base_uri": "https://localhost:8080/"
        },
        "id": "ZbcLvYTPCIQZ",
        "outputId": "2c7f5985-2e3a-4d5d-a25b-804fa4f9fa87"
      },
      "source": [
        "%%R\n",
        "ObjetoGuardado = 1:10\n",
        "ObjetoGuardado*5"
      ],
      "execution_count": 14,
      "outputs": [
        {
          "output_type": "stream",
          "name": "stdout",
          "text": [
            " [1]  5 10 15 20 25 30 35 40 45 50\n"
          ]
        }
      ]
    },
    {
      "cell_type": "code",
      "metadata": {
        "colab": {
          "base_uri": "https://localhost:8080/"
        },
        "id": "Fjr9JDtPCPQN",
        "outputId": "52bebd6e-de10-4ed3-9ae0-d041640bbab9"
      },
      "source": [
        "%%R\n",
        "ObjetoGuardado*5"
      ],
      "execution_count": 16,
      "outputs": [
        {
          "output_type": "stream",
          "name": "stdout",
          "text": [
            " [1]  5 10 15 20 25 30 35 40 45 50\n"
          ]
        }
      ]
    },
    {
      "cell_type": "code",
      "metadata": {
        "colab": {
          "base_uri": "https://localhost:8080/"
        },
        "id": "9lju-I9gCSL6",
        "outputId": "207b4cd0-1ea4-4dde-c86e-abe781634ac7"
      },
      "source": [
        "%%R \n",
        "ObjetoGuardado**(1/2)"
      ],
      "execution_count": 17,
      "outputs": [
        {
          "output_type": "stream",
          "name": "stdout",
          "text": [
            " [1] 1.000000 1.414214 1.732051 2.000000 2.236068 2.449490 2.645751 2.828427\n",
            " [9] 3.000000 3.162278\n"
          ]
        }
      ]
    },
    {
      "cell_type": "code",
      "metadata": {
        "colab": {
          "base_uri": "https://localhost:8080/"
        },
        "id": "4V1tDKlqCYhL",
        "outputId": "5c2b0615-0960-40b8-8b2c-fd96f37a0ab6"
      },
      "source": [
        "%%R\n",
        "log(ObjetoGuardado)"
      ],
      "execution_count": 18,
      "outputs": [
        {
          "output_type": "stream",
          "name": "stdout",
          "text": [
            " [1] 0.0000000 0.6931472 1.0986123 1.3862944 1.6094379 1.7917595 1.9459101\n",
            " [8] 2.0794415 2.1972246 2.3025851\n"
          ]
        }
      ]
    },
    {
      "cell_type": "markdown",
      "metadata": {
        "id": "DvORENt4CibU"
      },
      "source": [
        "### Operadores lógicos\n",
        "\n",
        "Un elemento de gran importancia dentro de un entorno de trabajo como _R_, son los operadores lógicos. De los cuales tenemos como más importantes los siguientes:\n",
        "\n",
        "* Coincidencia exacta (==)\n",
        "* mayor o igual (>=)\n",
        "* menor o igua (<=)\n",
        "* Es distinto (!=)\n",
        "* Y (&)\n",
        "* O (|)\n",
        "* Existe en (%in%)\n"
      ]
    },
    {
      "cell_type": "code",
      "metadata": {
        "colab": {
          "base_uri": "https://localhost:8080/"
        },
        "id": "mCz9vM-UCd8K",
        "outputId": "1d44aa4d-1f3d-4682-ec7a-d2e09e423f2b"
      },
      "source": [
        "%%R\n",
        "2+2==5"
      ],
      "execution_count": 19,
      "outputs": [
        {
          "output_type": "stream",
          "name": "stdout",
          "text": [
            "[1] FALSE\n"
          ]
        }
      ]
    },
    {
      "cell_type": "code",
      "metadata": {
        "colab": {
          "base_uri": "https://localhost:8080/"
        },
        "id": "9zgO_hM5CplR",
        "outputId": "3ba01f61-4aae-4322-b78a-cd134ce98dea"
      },
      "source": [
        "%%R\n",
        "2+2!=5"
      ],
      "execution_count": 20,
      "outputs": [
        {
          "output_type": "stream",
          "name": "stdout",
          "text": [
            "[1] TRUE\n"
          ]
        }
      ]
    },
    {
      "cell_type": "code",
      "metadata": {
        "colab": {
          "base_uri": "https://localhost:8080/"
        },
        "id": "nM3YvE24C0rD",
        "outputId": "425d6ba5-d927-4c94-dd10-6259cf6afb33"
      },
      "source": [
        "%%R\n",
        "2+2>=5"
      ],
      "execution_count": 21,
      "outputs": [
        {
          "output_type": "stream",
          "name": "stdout",
          "text": [
            "[1] FALSE\n"
          ]
        }
      ]
    },
    {
      "cell_type": "code",
      "metadata": {
        "colab": {
          "base_uri": "https://localhost:8080/"
        },
        "id": "C6oXszD0C4Lj",
        "outputId": "47d3ef26-9d76-48e5-ba39-508f1a0ff0bf"
      },
      "source": [
        "%%R\n",
        "2+2 ==5 & 2+2<5"
      ],
      "execution_count": 23,
      "outputs": [
        {
          "output_type": "stream",
          "name": "stdout",
          "text": [
            "[1] FALSE\n"
          ]
        }
      ]
    },
    {
      "cell_type": "code",
      "metadata": {
        "colab": {
          "base_uri": "https://localhost:8080/"
        },
        "id": "lJpcWFTxC9sR",
        "outputId": "02c7c4f4-9620-4445-ccc1-a92249c93943"
      },
      "source": [
        "%%R\n",
        "FALSE & TRUE"
      ],
      "execution_count": 26,
      "outputs": [
        {
          "output_type": "stream",
          "name": "stdout",
          "text": [
            "[1] FALSE\n"
          ]
        }
      ]
    },
    {
      "cell_type": "code",
      "metadata": {
        "colab": {
          "base_uri": "https://localhost:8080/"
        },
        "id": "S8bPoFwTDD0r",
        "outputId": "648e3b4d-4c24-41c2-9b38-fc3d735ae202"
      },
      "source": [
        "%%R\n",
        "2+2 == 5 | 2+2 <5"
      ],
      "execution_count": 28,
      "outputs": [
        {
          "output_type": "stream",
          "name": "stdout",
          "text": [
            "[1] TRUE\n"
          ]
        }
      ]
    },
    {
      "cell_type": "code",
      "metadata": {
        "colab": {
          "base_uri": "https://localhost:8080/"
        },
        "id": "tyBlnc24DExM",
        "outputId": "8a974b92-a6f9-49c9-bfbb-dcff13b1dda5"
      },
      "source": [
        "%%R\n",
        "FALSE | TRUE"
      ],
      "execution_count": 30,
      "outputs": [
        {
          "output_type": "stream",
          "name": "stdout",
          "text": [
            "[1] TRUE\n"
          ]
        }
      ]
    },
    {
      "cell_type": "code",
      "metadata": {
        "colab": {
          "base_uri": "https://localhost:8080/"
        },
        "id": "QobHwRHkDM7L",
        "outputId": "cb82f830-f566-48d5-83da-8a3bc59d064a"
      },
      "source": [
        "%%R\n",
        "secuencia = 1:10\n",
        "secuencia %in% 3"
      ],
      "execution_count": 32,
      "outputs": [
        {
          "output_type": "stream",
          "name": "stdout",
          "text": [
            " [1] FALSE FALSE  TRUE FALSE FALSE FALSE FALSE FALSE FALSE FALSE\n"
          ]
        }
      ]
    },
    {
      "cell_type": "markdown",
      "metadata": {
        "id": "XifsGgDRDcxS"
      },
      "source": [
        "### Objetos con múltiples datos de una dimensión\n",
        "\n",
        "Generalmente necesitamos utilizar objetos que contengan multiples datos, para este efecto existen los vectores y las columnas, en ambos casos los podemos generar con la función __c()__ (combine) que nos ayuda a combinar distintos objetos dentro de uno solo:\n",
        "\n",
        "* vector: objetos que sólo pueden contener un tipo de datos y guardan la clase de datos de los elementos, los conseguimos con la función _c()_ (combine).\n",
        "* list: objetos que pueden tener multiples tipos de datos, son objetos de tipo _list_ y los generamos con la función que leva este nombre(list())\n"
      ]
    },
    {
      "cell_type": "code",
      "metadata": {
        "colab": {
          "base_uri": "https://localhost:8080/"
        },
        "id": "op85ZuG2DepY",
        "outputId": "239cd7e1-63d5-4f16-dcd1-7f7bbf938294"
      },
      "source": [
        "%%R\n",
        "secuencia = 1:100\n",
        "class(secuencia)\n"
      ],
      "execution_count": 33,
      "outputs": [
        {
          "output_type": "stream",
          "name": "stdout",
          "text": [
            "[1] \"integer\"\n"
          ]
        }
      ]
    },
    {
      "cell_type": "code",
      "metadata": {
        "colab": {
          "base_uri": "https://localhost:8080/"
        },
        "id": "IOUUTElQDiLa",
        "outputId": "8109b7ea-942c-4efc-d8e2-e2f905b32bb2"
      },
      "source": [
        "%%R\n",
        "fruta = list(\"Naranja\", 18, TRUE)\n",
        "class(fruta)"
      ],
      "execution_count": 35,
      "outputs": [
        {
          "output_type": "stream",
          "name": "stdout",
          "text": [
            "[1] \"list\"\n"
          ]
        }
      ]
    },
    {
      "cell_type": "markdown",
      "metadata": {
        "id": "1LAwU3JQDn65"
      },
      "source": [
        "## Arreglos de datos bidimensionales\n",
        "\n",
        "Los tipos de objetos que se observan en el apartado anterior tienen la característica de ser arreglos de datos de una sóla dimensión. Para los fines de esta clase, con mayor frecuencia utilizaremos arreglos bidimencionales (con filas y columnas). Los objetos de este tipo más utilizados son las matrices y los data frames\n",
        "\n",
        "* matrix: objetos bidimensionales que sólo son capaces de tener un solo tipo de datos.\n",
        "* DataFrame: arreglos bidimensionales que pueden contener distintos tipos de datos en cada columna.\n"
      ]
    },
    {
      "cell_type": "code",
      "metadata": {
        "colab": {
          "base_uri": "https://localhost:8080/"
        },
        "id": "sFynfV4IDjYB",
        "outputId": "69ec8bcc-fccb-497b-c8bd-51d7ebed073a"
      },
      "source": [
        "%%R\n",
        "vector = 1:16\n",
        "M_object <-matrix(vector, ncol = 4) #Generamos una matriz a partir del vector\n",
        "class(M_object)\n"
      ],
      "execution_count": 38,
      "outputs": [
        {
          "output_type": "stream",
          "name": "stdout",
          "text": [
            "[1] \"matrix\" \"array\" \n"
          ]
        }
      ]
    },
    {
      "cell_type": "code",
      "metadata": {
        "colab": {
          "base_uri": "https://localhost:8080/"
        },
        "id": "vXx7eV_xD7I6",
        "outputId": "6a6eff8d-9f7a-4a0c-e648-e3f3326afe72"
      },
      "source": [
        "%%R \n",
        "diagonal <- diag(4) #Generamos una matríz identidad de 3*3 \n",
        "M_object%*%diagonal \n"
      ],
      "execution_count": 37,
      "outputs": [
        {
          "output_type": "stream",
          "name": "stdout",
          "text": [
            "     [,1] [,2] [,3] [,4]\n",
            "[1,]    1    5    9   13\n",
            "[2,]    2    6   10   14\n",
            "[3,]    3    7   11   15\n",
            "[4,]    4    8   12   16\n"
          ]
        }
      ]
    },
    {
      "cell_type": "code",
      "metadata": {
        "colab": {
          "base_uri": "https://localhost:8080/"
        },
        "id": "7vrI8ua1EB6C",
        "outputId": "7bbc3553-f58b-4683-d72f-8aef64823503"
      },
      "source": [
        "%%R\n",
        "data(iris)\n",
        "head(iris)"
      ],
      "execution_count": 39,
      "outputs": [
        {
          "output_type": "stream",
          "name": "stdout",
          "text": [
            "  Sepal.Length Sepal.Width Petal.Length Petal.Width Species\n",
            "1          5.1         3.5          1.4         0.2  setosa\n",
            "2          4.9         3.0          1.4         0.2  setosa\n",
            "3          4.7         3.2          1.3         0.2  setosa\n",
            "4          4.6         3.1          1.5         0.2  setosa\n",
            "5          5.0         3.6          1.4         0.2  setosa\n",
            "6          5.4         3.9          1.7         0.4  setosa\n"
          ]
        }
      ]
    },
    {
      "cell_type": "code",
      "metadata": {
        "colab": {
          "base_uri": "https://localhost:8080/"
        },
        "id": "zv5rZ-eaEW5Z",
        "outputId": "439042d6-e93c-4d6d-e4a9-5d64e32fb665"
      },
      "source": [
        "%%R\n",
        "class(iris)"
      ],
      "execution_count": 42,
      "outputs": [
        {
          "output_type": "stream",
          "name": "stdout",
          "text": [
            "[1] \"data.frame\"\n"
          ]
        }
      ]
    },
    {
      "cell_type": "code",
      "metadata": {
        "colab": {
          "base_uri": "https://localhost:8080/"
        },
        "id": "O9TDWKtZEazI",
        "outputId": "2383dcb4-7a9a-4ffc-85a7-b5caa2492a4f"
      },
      "source": [
        "%%R\n",
        "class(iris$Sepal.Length)"
      ],
      "execution_count": 44,
      "outputs": [
        {
          "output_type": "stream",
          "name": "stdout",
          "text": [
            "[1] \"numeric\"\n"
          ]
        }
      ]
    },
    {
      "cell_type": "code",
      "metadata": {
        "colab": {
          "base_uri": "https://localhost:8080/"
        },
        "id": "XYhia282EgFY",
        "outputId": "508ec81a-b4ad-466f-b449-72ad28d794cc"
      },
      "source": [
        "%%R\n",
        "class(iris$Species)"
      ],
      "execution_count": 45,
      "outputs": [
        {
          "output_type": "stream",
          "name": "stdout",
          "text": [
            "[1] \"factor\"\n"
          ]
        }
      ]
    },
    {
      "cell_type": "markdown",
      "metadata": {
        "id": "V4tMsJkhEnEt"
      },
      "source": [
        "### Funciones creadas\n",
        "\n",
        "Un elemento particularmente poderoso de R, es la facilidad con la que podemos transitar de usuarios a desarrolladores. Seguramente el primer paso para este cometido es la creación de funciones. \n",
        "\n",
        "Como se mostró en el apartado de operadores numéricos, las raices sólo mantienen la capacidad se extraer la raíz cuadrada. La siguiente linea de condigo genera una función que nos permite  calcular raíces de orden _n_, utilizando dos argumentos: el objeto sobre el cual se realiza el cálculo, el orden de la raíz. \n"
      ]
    },
    {
      "cell_type": "code",
      "metadata": {
        "id": "eKv3w58XEsoS"
      },
      "source": [
        "%%R\n",
        "raiz <- function(x, n = 2){\n",
        "  x**(1/n)\n",
        "}\n"
      ],
      "execution_count": 46,
      "outputs": []
    },
    {
      "cell_type": "code",
      "metadata": {
        "colab": {
          "base_uri": "https://localhost:8080/",
          "height": 497
        },
        "id": "NFAwTSGhE11I",
        "outputId": "975bb2f5-fbf0-40bd-a03f-e8f3f9288869"
      },
      "source": [
        "%%R\n",
        "x = 1:100\n",
        "y = raiz(x)\n",
        "y2 = raiz(x,3)\n",
        "\n",
        "plot(x,y, type = \"l\", lwd =5 )\n",
        "lines(x,y2, col = \"blue\")\n",
        "legend(2,10,c(\"raíz cuadrada\",\"raíz cúbica\"), lwd=c(5,2), col=c(\"black\",\"blue\"), y.intersp=1)\n"
      ],
      "execution_count": 47,
      "outputs": [
        {
          "output_type": "display_data",
          "data": {
            "image/png": "[encoded data removed]"
          },
          "metadata": {}
        }
      ]
    },
    {
      "cell_type": "markdown",
      "metadata": {
        "id": "HUHfnCf8E9IY"
      },
      "source": [
        "### librerias\n",
        "\n",
        "Del mismo modo en que nosotros somos capaces de escribir funciones nuevas, multiples usuarios constantemente crean o actualizan _librerias_ para disminuir la cantidad de código que tiene que ser escrita. Básicamente las librerias ayudan a la comunidad de usuarios de R a tener mejores resultados sin tener que duplicar esfuerzos.\n",
        "\n",
        "Un gran ejemplo de ello es _ggplot2_, que actualmente es de las librerías más populares de R por permitir generar elementos visuales muy estéticos de un modo muy simple. \n"
      ]
    },
    {
      "cell_type": "code",
      "metadata": {
        "colab": {
          "base_uri": "https://localhost:8080/",
          "height": 497
        },
        "id": "OC-Q0439E7OC",
        "outputId": "0ec4e743-e929-4e19-e0d6-b27344175f32"
      },
      "source": [
        "%%R\n",
        "#install.packages(\"ggplot2\")\n",
        "#library(ggplot2)\n",
        "\n",
        "qplot(x,y, col = \"Raíz cuadrada\")+\n",
        "  geom_line(aes(x,y2,col = \"raíz cúbica\"))\n"
      ],
      "execution_count": 49,
      "outputs": [
        {
          "output_type": "display_data",
          "data": {
            "image/png": "[encoded data removed]"
          },
          "metadata": {}
        }
      ]
    },
    {
      "cell_type": "markdown",
      "metadata": {
        "id": "7QhjPrd8FT4u"
      },
      "source": [
        "## Caso Práctico (Cálculo de riesgo sistémico de AMZN)\n"
      ]
    },
    {
      "cell_type": "code",
      "metadata": {
        "colab": {
          "base_uri": "https://localhost:8080/"
        },
        "id": "BbzJQWpmFJyR",
        "outputId": "823cad77-c9d9-4300-e823-4321a9291e44"
      },
      "source": [
        "%%R\n",
        "install.packages(\"quantmod\")\n",
        "install.packages(\"highcharter\")\n",
        "install.packages(\"ggplot2\")\n",
        "install.packages(\"stargazer\")\n",
        "library(quantmod)\n",
        "library(highcharter)\n",
        "library(ggplot2)\n",
        "library(stargazer)\n",
        "options(\"getSymbols.warning4.0\"=FALSE)\n"
      ],
      "execution_count": 50,
      "outputs": [
        {
          "output_type": "stream",
          "name": "stderr",
          "text": [
            "R[write to console]: Installing package into ‘/usr/local/lib/R/site-library’\n",
            "(as ‘lib’ is unspecified)\n",
            "\n",
            "R[write to console]: also installing the dependencies ‘xts’, ‘zoo’, ‘TTR’\n",
            "\n",
            "\n",
            "R[write to console]: trying URL 'https://cran.rstudio.com/src/contrib/xts_0.12.1.tar.gz'\n",
            "\n",
            "R[write to console]: Content type 'application/x-gzip'\n",
            "R[write to console]:  length 517875 bytes (505 KB)\n",
            "\n",
            "R[write to console]: =\n",
            "R[write to console]: =\n",
            "R[write to console]: =\n",
            "R[write to console]: =\n",
            "R[write to console]: =\n",
            "R[write to console]: =\n",
            "R[write to console]: =\n",
            "R[write to console]: =\n",
            "R[write to console]: =\n",
            "R[write to console]: =\n",
            "R[write to console]: =\n",
            "R[write to console]: =\n",
            "R[write to console]: =\n",
            "R[write to console]: =\n",
            "R[write to console]: =\n",
            "R[write to console]: =\n",
            "R[write to console]: =\n",
            "R[write to console]: =\n",
            "R[write to console]: =\n",
            "R[write to console]: =\n",
            "R[write to console]: =\n",
            "R[write to console]: =\n",
            "R[write to console]: =\n",
            "R[write to console]: =\n",
            "R[write to console]: =\n",
            "R[write to console]: =\n",
            "R[write to console]: =\n",
            "R[write to console]: =\n",
            "R[write to console]: =\n",
            "R[write to console]: =\n",
            "R[write to console]: =\n",
            "R[write to console]: =\n",
            "R[write to console]: =\n",
            "R[write to console]: =\n",
            "R[write to console]: =\n",
            "R[write to console]: =\n",
            "R[write to console]: =\n",
            "R[write to console]: =\n",
            "R[write to console]: =\n",
            "R[write to console]: =\n",
            "R[write to console]: =\n",
            "R[write to console]: =\n",
            "R[write to console]: =\n",
            "R[write to console]: =\n",
            "R[write to console]: =\n",
            "R[write to console]: =\n",
            "R[write to console]: =\n",
            "R[write to console]: =\n",
            "R[write to console]: =\n",
            "R[write to console]: =\n",
            "R[write to console]: \n",
            "\n",
            "R[write to console]: downloaded 505 KB\n",
            "\n",
            "\n",
            "R[write to console]: trying URL 'https://cran.rstudio.com/src/contrib/zoo_1.8-9.tar.gz'\n",
            "\n",
            "R[write to console]: Content type 'application/x-gzip'\n",
            "R[write to console]:  length 793891 bytes (775 KB)\n",
            "\n",
            "R[write to console]: =\n",
            "R[write to console]: =\n",
            "R[write to console]: =\n",
            "R[write to console]: =\n",
            "R[write to console]: =\n",
            "R[write to console]: =\n",
            "R[write to console]: =\n",
            "R[write to console]: =\n",
            "R[write to console]: =\n",
            "R[write to console]: =\n",
            "R[write to console]: =\n",
            "R[write to console]: =\n",
            "R[write to console]: =\n",
            "R[write to console]: =\n",
            "R[write to console]: =\n",
            "R[write to console]: =\n",
            "R[write to console]: =\n",
            "R[write to console]: =\n",
            "R[write to console]: =\n",
            "R[write to console]: =\n",
            "R[write to console]: =\n",
            "R[write to console]: =\n",
            "R[write to console]: =\n",
            "R[write to console]: =\n",
            "R[write to console]: =\n",
            "R[write to console]: =\n",
            "R[write to console]: =\n",
            "R[write to console]: =\n",
            "R[write to console]: =\n",
            "R[write to console]: =\n",
            "R[write to console]: =\n",
            "R[write to console]: =\n",
            "R[write to console]: =\n",
            "R[write to console]: =\n",
            "R[write to console]: =\n",
            "R[write to console]: =\n",
            "R[write to console]: =\n",
            "R[write to console]: =\n",
            "R[write to console]: =\n",
            "R[write to console]: =\n",
            "R[write to console]: =\n",
            "R[write to console]: =\n",
            "R[write to console]: =\n",
            "R[write to console]: =\n",
            "R[write to console]: =\n",
            "R[write to console]: =\n",
            "R[write to console]: =\n",
            "R[write to console]: =\n",
            "R[write to console]: =\n",
            "R[write to console]: =\n",
            "R[write to console]: \n",
            "\n",
            "R[write to console]: downloaded 775 KB\n",
            "\n",
            "\n",
            "R[write to console]: trying URL 'https://cran.rstudio.com/src/contrib/TTR_0.24.2.tar.gz'\n",
            "\n",
            "R[write to console]: Content type 'application/x-gzip'\n",
            "R[write to console]:  length 314035 bytes (306 KB)\n",
            "\n",
            "R[write to console]: =\n",
            "R[write to console]: =\n",
            "R[write to console]: =\n",
            "R[write to console]: =\n",
            "R[write to console]: =\n",
            "R[write to console]: =\n",
            "R[write to console]: =\n",
            "R[write to console]: =\n",
            "R[write to console]: =\n",
            "R[write to console]: =\n",
            "R[write to console]: =\n",
            "R[write to console]: =\n",
            "R[write to console]: =\n",
            "R[write to console]: =\n",
            "R[write to console]: =\n",
            "R[write to console]: =\n",
            "R[write to console]: =\n",
            "R[write to console]: =\n",
            "R[write to console]: =\n",
            "R[write to console]: =\n",
            "R[write to console]: =\n",
            "R[write to console]: =\n",
            "R[write to console]: =\n",
            "R[write to console]: =\n",
            "R[write to console]: =\n",
            "R[write to console]: =\n",
            "R[write to console]: =\n",
            "R[write to console]: =\n",
            "R[write to console]: =\n",
            "R[write to console]: =\n",
            "R[write to console]: =\n",
            "R[write to console]: =\n",
            "R[write to console]: =\n",
            "R[write to console]: =\n",
            "R[write to console]: =\n",
            "R[write to console]: =\n",
            "R[write to console]: =\n",
            "R[write to console]: =\n",
            "R[write to console]: =\n",
            "R[write to console]: =\n",
            "R[write to console]: =\n",
            "R[write to console]: =\n",
            "R[write to console]: =\n",
            "R[write to console]: =\n",
            "R[write to console]: =\n",
            "R[write to console]: =\n",
            "R[write to console]: =\n",
            "R[write to console]: =\n",
            "R[write to console]: =\n",
            "R[write to console]: =\n",
            "R[write to console]: \n",
            "\n",
            "R[write to console]: downloaded 306 KB\n",
            "\n",
            "\n",
            "R[write to console]: trying URL 'https://cran.rstudio.com/src/contrib/quantmod_0.4.18.tar.gz'\n",
            "\n",
            "R[write to console]: Content type 'application/x-gzip'\n",
            "R[write to console]:  length 154512 bytes (150 KB)\n",
            "\n",
            "R[write to console]: =\n",
            "R[write to console]: =\n",
            "R[write to console]: =\n",
            "R[write to console]: =\n",
            "R[write to console]: =\n",
            "R[write to console]: =\n",
            "R[write to console]: =\n",
            "R[write to console]: =\n",
            "R[write to console]: =\n",
            "R[write to console]: =\n",
            "R[write to console]: =\n",
            "R[write to console]: =\n",
            "R[write to console]: =\n",
            "R[write to console]: =\n",
            "R[write to console]: =\n",
            "R[write to console]: =\n",
            "R[write to console]: =\n",
            "R[write to console]: =\n",
            "R[write to console]: =\n",
            "R[write to console]: =\n",
            "R[write to console]: =\n",
            "R[write to console]: =\n",
            "R[write to console]: =\n",
            "R[write to console]: =\n",
            "R[write to console]: =\n",
            "R[write to console]: =\n",
            "R[write to console]: =\n",
            "R[write to console]: =\n",
            "R[write to console]: =\n",
            "R[write to console]: =\n",
            "R[write to console]: =\n",
            "R[write to console]: =\n",
            "R[write to console]: =\n",
            "R[write to console]: =\n",
            "R[write to console]: =\n",
            "R[write to console]: =\n",
            "R[write to console]: =\n",
            "R[write to console]: =\n",
            "R[write to console]: =\n",
            "R[write to console]: =\n",
            "R[write to console]: =\n",
            "R[write to console]: =\n",
            "R[write to console]: =\n",
            "R[write to console]: =\n",
            "R[write to console]: =\n",
            "R[write to console]: =\n",
            "R[write to console]: =\n",
            "R[write to console]: =\n",
            "R[write to console]: =\n",
            "R[write to console]: =\n",
            "R[write to console]: \n",
            "\n",
            "R[write to console]: downloaded 150 KB\n",
            "\n",
            "\n",
            "R[write to console]: \n",
            "\n",
            "R[write to console]: \n",
            "R[write to console]: The downloaded source packages are in\n",
            "\t‘/tmp/Rtmp7nJLMu/downloaded_packages’\n",
            "R[write to console]: \n",
            "R[write to console]: \n",
            "\n",
            "R[write to console]: Installing package into ‘/usr/local/lib/R/site-library’\n",
            "(as ‘lib’ is unspecified)\n",
            "\n",
            "R[write to console]: also installing the dependencies ‘XML’, ‘htmlwidgets’, ‘rlist’, ‘igraph’, ‘rjson’\n",
            "\n",
            "\n",
            "R[write to console]: trying URL 'https://cran.rstudio.com/src/contrib/XML_3.99-0.7.tar.gz'\n",
            "\n",
            "R[write to console]: Content type 'application/x-gzip'\n",
            "R[write to console]:  length 968688 bytes (945 KB)\n",
            "\n",
            "R[write to console]: =\n",
            "R[write to console]: =\n",
            "R[write to console]: =\n",
            "R[write to console]: =\n",
            "R[write to console]: =\n",
            "R[write to console]: =\n",
            "R[write to console]: =\n",
            "R[write to console]: =\n",
            "R[write to console]: =\n",
            "R[write to console]: =\n",
            "R[write to console]: =\n",
            "R[write to console]: =\n",
            "R[write to console]: =\n",
            "R[write to console]: =\n",
            "R[write to console]: =\n",
            "R[write to console]: =\n",
            "R[write to console]: =\n",
            "R[write to console]: =\n",
            "R[write to console]: =\n",
            "R[write to console]: =\n",
            "R[write to console]: =\n",
            "R[write to console]: =\n",
            "R[write to console]: =\n",
            "R[write to console]: =\n",
            "R[write to console]: =\n",
            "R[write to console]: =\n",
            "R[write to console]: =\n",
            "R[write to console]: =\n",
            "R[write to console]: =\n",
            "R[write to console]: =\n",
            "R[write to console]: =\n",
            "R[write to console]: =\n",
            "R[write to console]: =\n",
            "R[write to console]: =\n",
            "R[write to console]: =\n",
            "R[write to console]: =\n",
            "R[write to console]: =\n",
            "R[write to console]: =\n",
            "R[write to console]: =\n",
            "R[write to console]: =\n",
            "R[write to console]: =\n",
            "R[write to console]: =\n",
            "R[write to console]: =\n",
            "R[write to console]: =\n",
            "R[write to console]: =\n",
            "R[write to console]: =\n",
            "R[write to console]: =\n",
            "R[write to console]: =\n",
            "R[write to console]: =\n",
            "R[write to console]: =\n",
            "R[write to console]: \n",
            "\n",
            "R[write to console]: downloaded 945 KB\n",
            "\n",
            "\n",
            "R[write to console]: trying URL 'https://cran.rstudio.com/src/contrib/htmlwidgets_1.5.4.tar.gz'\n",
            "\n",
            "R[write to console]: Content type 'application/x-gzip'\n",
            "R[write to console]:  length 956850 bytes (934 KB)\n",
            "\n",
            "R[write to console]: =\n",
            "R[write to console]: =\n",
            "R[write to console]: =\n",
            "R[write to console]: =\n",
            "R[write to console]: =\n",
            "R[write to console]: =\n",
            "R[write to console]: =\n",
            "R[write to console]: =\n",
            "R[write to console]: =\n",
            "R[write to console]: =\n",
            "R[write to console]: =\n",
            "R[write to console]: =\n",
            "R[write to console]: =\n",
            "R[write to console]: =\n",
            "R[write to console]: =\n",
            "R[write to console]: =\n",
            "R[write to console]: =\n",
            "R[write to console]: =\n",
            "R[write to console]: =\n",
            "R[write to console]: =\n",
            "R[write to console]: =\n",
            "R[write to console]: =\n",
            "R[write to console]: =\n",
            "R[write to console]: =\n",
            "R[write to console]: =\n",
            "R[write to console]: =\n",
            "R[write to console]: =\n",
            "R[write to console]: =\n",
            "R[write to console]: =\n",
            "R[write to console]: =\n",
            "R[write to console]: =\n",
            "R[write to console]: =\n",
            "R[write to console]: =\n",
            "R[write to console]: =\n",
            "R[write to console]: =\n",
            "R[write to console]: =\n",
            "R[write to console]: =\n",
            "R[write to console]: =\n",
            "R[write to console]: =\n",
            "R[write to console]: =\n",
            "R[write to console]: =\n",
            "R[write to console]: =\n",
            "R[write to console]: =\n",
            "R[write to console]: =\n",
            "R[write to console]: =\n",
            "R[write to console]: =\n",
            "R[write to console]: =\n",
            "R[write to console]: =\n",
            "R[write to console]: =\n",
            "R[write to console]: =\n",
            "R[write to console]: \n",
            "\n",
            "R[write to console]: downloaded 934 KB\n",
            "\n",
            "\n",
            "R[write to console]: trying URL 'https://cran.rstudio.com/src/contrib/rlist_0.4.6.2.tar.gz'\n",
            "\n",
            "R[write to console]: Content type 'application/x-gzip'\n",
            "R[write to console]:  length 72870 bytes (71 KB)\n",
            "\n",
            "R[write to console]: =\n",
            "R[write to console]: =\n",
            "R[write to console]: =\n",
            "R[write to console]: =\n",
            "R[write to console]: =\n",
            "R[write to console]: =\n",
            "R[write to console]: =\n",
            "R[write to console]: =\n",
            "R[write to console]: =\n",
            "R[write to console]: =\n",
            "R[write to console]: =\n",
            "R[write to console]: =\n",
            "R[write to console]: =\n",
            "R[write to console]: =\n",
            "R[write to console]: =\n",
            "R[write to console]: =\n",
            "R[write to console]: =\n",
            "R[write to console]: =\n",
            "R[write to console]: =\n",
            "R[write to console]: =\n",
            "R[write to console]: =\n",
            "R[write to console]: =\n",
            "R[write to console]: =\n",
            "R[write to console]: =\n",
            "R[write to console]: =\n",
            "R[write to console]: =\n",
            "R[write to console]: =\n",
            "R[write to console]: =\n",
            "R[write to console]: =\n",
            "R[write to console]: =\n",
            "R[write to console]: =\n",
            "R[write to console]: =\n",
            "R[write to console]: =\n",
            "R[write to console]: =\n",
            "R[write to console]: =\n",
            "R[write to console]: =\n",
            "R[write to console]: =\n",
            "R[write to console]: =\n",
            "R[write to console]: =\n",
            "R[write to console]: =\n",
            "R[write to console]: =\n",
            "R[write to console]: =\n",
            "R[write to console]: =\n",
            "R[write to console]: =\n",
            "R[write to console]: =\n",
            "R[write to console]: =\n",
            "R[write to console]: =\n",
            "R[write to console]: =\n",
            "R[write to console]: =\n",
            "R[write to console]: =\n",
            "R[write to console]: \n",
            "\n",
            "R[write to console]: downloaded 71 KB\n",
            "\n",
            "\n",
            "R[write to console]: trying URL 'https://cran.rstudio.com/src/contrib/igraph_1.2.6.tar.gz'\n",
            "\n",
            "R[write to console]: Content type 'application/x-gzip'\n",
            "R[write to console]:  length 2715500 bytes (2.6 MB)\n",
            "\n",
            "R[write to console]: =\n",
            "R[write to console]: =\n",
            "R[write to console]: =\n",
            "R[write to console]: =\n",
            "R[write to console]: =\n",
            "R[write to console]: =\n",
            "R[write to console]: =\n",
            "R[write to console]: =\n",
            "R[write to console]: =\n",
            "R[write to console]: =\n",
            "R[write to console]: =\n",
            "R[write to console]: =\n",
            "R[write to console]: =\n",
            "R[write to console]: =\n",
            "R[write to console]: =\n",
            "R[write to console]: =\n",
            "R[write to console]: =\n",
            "R[write to console]: =\n",
            "R[write to console]: =\n",
            "R[write to console]: =\n",
            "R[write to console]: =\n",
            "R[write to console]: =\n",
            "R[write to console]: =\n",
            "R[write to console]: =\n",
            "R[write to console]: =\n",
            "R[write to console]: =\n",
            "R[write to console]: =\n",
            "R[write to console]: =\n",
            "R[write to console]: =\n",
            "R[write to console]: =\n",
            "R[write to console]: =\n",
            "R[write to console]: =\n",
            "R[write to console]: =\n",
            "R[write to console]: =\n",
            "R[write to console]: =\n",
            "R[write to console]: =\n",
            "R[write to console]: =\n",
            "R[write to console]: =\n",
            "R[write to console]: =\n",
            "R[write to console]: =\n",
            "R[write to console]: =\n",
            "R[write to console]: =\n",
            "R[write to console]: =\n",
            "R[write to console]: =\n",
            "R[write to console]: =\n",
            "R[write to console]: =\n",
            "R[write to console]: =\n",
            "R[write to console]: =\n",
            "R[write to console]: =\n",
            "R[write to console]: =\n",
            "R[write to console]: \n",
            "\n",
            "R[write to console]: downloaded 2.6 MB\n",
            "\n",
            "\n",
            "R[write to console]: trying URL 'https://cran.rstudio.com/src/contrib/rjson_0.2.20.tar.gz'\n",
            "\n",
            "R[write to console]: Content type 'application/x-gzip'\n",
            "R[write to console]:  length 99600 bytes (97 KB)\n",
            "\n",
            "R[write to console]: =\n",
            "R[write to console]: =\n",
            "R[write to console]: =\n",
            "R[write to console]: =\n",
            "R[write to console]: =\n",
            "R[write to console]: =\n",
            "R[write to console]: =\n",
            "R[write to console]: =\n",
            "R[write to console]: =\n",
            "R[write to console]: =\n",
            "R[write to console]: =\n",
            "R[write to console]: =\n",
            "R[write to console]: =\n",
            "R[write to console]: =\n",
            "R[write to console]: =\n",
            "R[write to console]: =\n",
            "R[write to console]: =\n",
            "R[write to console]: =\n",
            "R[write to console]: =\n",
            "R[write to console]: =\n",
            "R[write to console]: =\n",
            "R[write to console]: =\n",
            "R[write to console]: =\n",
            "R[write to console]: =\n",
            "R[write to console]: =\n",
            "R[write to console]: =\n",
            "R[write to console]: =\n",
            "R[write to console]: =\n",
            "R[write to console]: =\n",
            "R[write to console]: =\n",
            "R[write to console]: =\n",
            "R[write to console]: =\n",
            "R[write to console]: =\n",
            "R[write to console]: =\n",
            "R[write to console]: =\n",
            "R[write to console]: =\n",
            "R[write to console]: =\n",
            "R[write to console]: =\n",
            "R[write to console]: =\n",
            "R[write to console]: =\n",
            "R[write to console]: =\n",
            "R[write to console]: =\n",
            "R[write to console]: =\n",
            "R[write to console]: =\n",
            "R[write to console]: =\n",
            "R[write to console]: =\n",
            "R[write to console]: =\n",
            "R[write to console]: =\n",
            "R[write to console]: =\n",
            "R[write to console]: =\n",
            "R[write to console]: \n",
            "\n",
            "R[write to console]: downloaded 97 KB\n",
            "\n",
            "\n",
            "R[write to console]: trying URL 'https://cran.rstudio.com/src/contrib/highcharter_0.8.2.tar.gz'\n",
            "\n",
            "R[write to console]: Content type 'application/x-gzip'\n",
            "R[write to console]:  length 978878 bytes (955 KB)\n",
            "\n",
            "R[write to console]: =\n",
            "R[write to console]: =\n",
            "R[write to console]: =\n",
            "R[write to console]: =\n",
            "R[write to console]: =\n",
            "R[write to console]: =\n",
            "R[write to console]: =\n",
            "R[write to console]: =\n",
            "R[write to console]: =\n",
            "R[write to console]: =\n",
            "R[write to console]: =\n",
            "R[write to console]: =\n",
            "R[write to console]: =\n",
            "R[write to console]: =\n",
            "R[write to console]: =\n",
            "R[write to console]: =\n",
            "R[write to console]: =\n",
            "R[write to console]: =\n",
            "R[write to console]: =\n",
            "R[write to console]: =\n",
            "R[write to console]: =\n",
            "R[write to console]: =\n",
            "R[write to console]: =\n",
            "R[write to console]: =\n",
            "R[write to console]: =\n",
            "R[write to console]: =\n",
            "R[write to console]: =\n",
            "R[write to console]: =\n",
            "R[write to console]: =\n",
            "R[write to console]: =\n",
            "R[write to console]: =\n",
            "R[write to console]: =\n",
            "R[write to console]: =\n",
            "R[write to console]: =\n",
            "R[write to console]: =\n",
            "R[write to console]: =\n",
            "R[write to console]: =\n",
            "R[write to console]: =\n",
            "R[write to console]: =\n",
            "R[write to console]: =\n",
            "R[write to console]: =\n",
            "R[write to console]: =\n",
            "R[write to console]: =\n",
            "R[write to console]: =\n",
            "R[write to console]: =\n",
            "R[write to console]: =\n",
            "R[write to console]: =\n",
            "R[write to console]: =\n",
            "R[write to console]: =\n",
            "R[write to console]: =\n",
            "R[write to console]: \n",
            "\n",
            "R[write to console]: downloaded 955 KB\n",
            "\n",
            "\n",
            "R[write to console]: \n",
            "\n",
            "R[write to console]: \n",
            "R[write to console]: The downloaded source packages are in\n",
            "\t‘/tmp/Rtmp7nJLMu/downloaded_packages’\n",
            "R[write to console]: \n",
            "R[write to console]: \n",
            "\n",
            "R[write to console]: Installing package into ‘/usr/local/lib/R/site-library’\n",
            "(as ‘lib’ is unspecified)\n",
            "\n",
            "R[write to console]: trying URL 'https://cran.rstudio.com/src/contrib/ggplot2_3.3.5.tar.gz'\n",
            "\n",
            "R[write to console]: Content type 'application/x-gzip'\n",
            "R[write to console]:  length 3063309 bytes (2.9 MB)\n",
            "\n",
            "R[write to console]: =\n",
            "R[write to console]: =\n",
            "R[write to console]: =\n",
            "R[write to console]: =\n",
            "R[write to console]: =\n",
            "R[write to console]: =\n",
            "R[write to console]: =\n",
            "R[write to console]: =\n",
            "R[write to console]: =\n",
            "R[write to console]: =\n",
            "R[write to console]: =\n",
            "R[write to console]: =\n",
            "R[write to console]: =\n",
            "R[write to console]: =\n",
            "R[write to console]: =\n",
            "R[write to console]: =\n",
            "R[write to console]: =\n",
            "R[write to console]: =\n",
            "R[write to console]: =\n",
            "R[write to console]: =\n",
            "R[write to console]: =\n",
            "R[write to console]: =\n",
            "R[write to console]: =\n",
            "R[write to console]: =\n",
            "R[write to console]: =\n",
            "R[write to console]: =\n",
            "R[write to console]: =\n",
            "R[write to console]: =\n",
            "R[write to console]: =\n",
            "R[write to console]: =\n",
            "R[write to console]: =\n",
            "R[write to console]: =\n",
            "R[write to console]: =\n",
            "R[write to console]: =\n",
            "R[write to console]: =\n",
            "R[write to console]: =\n",
            "R[write to console]: =\n",
            "R[write to console]: =\n",
            "R[write to console]: =\n",
            "R[write to console]: =\n",
            "R[write to console]: =\n",
            "R[write to console]: =\n",
            "R[write to console]: =\n",
            "R[write to console]: =\n",
            "R[write to console]: =\n",
            "R[write to console]: =\n",
            "R[write to console]: =\n",
            "R[write to console]: =\n",
            "R[write to console]: =\n",
            "R[write to console]: =\n",
            "R[write to console]: \n",
            "\n",
            "R[write to console]: downloaded 2.9 MB\n",
            "\n",
            "\n",
            "R[write to console]: \n",
            "\n",
            "R[write to console]: \n",
            "R[write to console]: The downloaded source packages are in\n",
            "\t‘/tmp/Rtmp7nJLMu/downloaded_packages’\n",
            "R[write to console]: \n",
            "R[write to console]: \n",
            "\n",
            "R[write to console]: Installing package into ‘/usr/local/lib/R/site-library’\n",
            "(as ‘lib’ is unspecified)\n",
            "\n",
            "R[write to console]: trying URL 'https://cran.rstudio.com/src/contrib/stargazer_5.2.2.tar.gz'\n",
            "\n",
            "R[write to console]: Content type 'application/x-gzip'\n",
            "R[write to console]:  length 315967 bytes (308 KB)\n",
            "\n",
            "R[write to console]: =\n",
            "R[write to console]: =\n",
            "R[write to console]: =\n",
            "R[write to console]: =\n",
            "R[write to console]: =\n",
            "R[write to console]: =\n",
            "R[write to console]: =\n",
            "R[write to console]: =\n",
            "R[write to console]: =\n",
            "R[write to console]: =\n",
            "R[write to console]: =\n",
            "R[write to console]: =\n",
            "R[write to console]: =\n",
            "R[write to console]: =\n",
            "R[write to console]: =\n",
            "R[write to console]: =\n",
            "R[write to console]: =\n",
            "R[write to console]: =\n",
            "R[write to console]: =\n",
            "R[write to console]: =\n",
            "R[write to console]: =\n",
            "R[write to console]: =\n",
            "R[write to console]: =\n",
            "R[write to console]: =\n",
            "R[write to console]: =\n",
            "R[write to console]: =\n",
            "R[write to console]: =\n",
            "R[write to console]: =\n",
            "R[write to console]: =\n",
            "R[write to console]: =\n",
            "R[write to console]: =\n",
            "R[write to console]: =\n",
            "R[write to console]: =\n",
            "R[write to console]: =\n",
            "R[write to console]: =\n",
            "R[write to console]: =\n",
            "R[write to console]: =\n",
            "R[write to console]: =\n",
            "R[write to console]: =\n",
            "R[write to console]: =\n",
            "R[write to console]: =\n",
            "R[write to console]: =\n",
            "R[write to console]: =\n",
            "R[write to console]: =\n",
            "R[write to console]: =\n",
            "R[write to console]: =\n",
            "R[write to console]: =\n",
            "R[write to console]: =\n",
            "R[write to console]: =\n",
            "R[write to console]: =\n",
            "R[write to console]: \n",
            "\n",
            "R[write to console]: downloaded 308 KB\n",
            "\n",
            "\n",
            "R[write to console]: \n",
            "\n",
            "R[write to console]: \n",
            "R[write to console]: The downloaded source packages are in\n",
            "\t‘/tmp/Rtmp7nJLMu/downloaded_packages’\n",
            "R[write to console]: \n",
            "R[write to console]: \n",
            "\n",
            "R[write to console]: Loading required package: xts\n",
            "\n",
            "R[write to console]: Loading required package: zoo\n",
            "\n",
            "R[write to console]: \n",
            "Attaching package: ‘zoo’\n",
            "\n",
            "\n",
            "R[write to console]: The following objects are masked from ‘package:base’:\n",
            "\n",
            "    as.Date, as.Date.numeric\n",
            "\n",
            "\n",
            "R[write to console]: Loading required package: TTR\n",
            "\n",
            "R[write to console]: Registered S3 method overwritten by 'quantmod':\n",
            "  method            from\n",
            "  as.zoo.data.frame zoo \n",
            "\n",
            "R[write to console]: \n",
            "Please cite as: \n",
            "\n",
            "\n",
            "R[write to console]:  Hlavac, Marek (2018). stargazer: Well-Formatted Regression and Summary Statistics Tables.\n",
            "\n",
            "R[write to console]:  R package version 5.2.2. https://CRAN.R-project.org/package=stargazer \n",
            "\n",
            "\n"
          ]
        }
      ]
    },
    {
      "cell_type": "markdown",
      "metadata": {
        "id": "OsFWBP_oFsSB"
      },
      "source": [
        "### Obtención y exploración de datos"
      ]
    },
    {
      "cell_type": "code",
      "metadata": {
        "colab": {
          "base_uri": "https://localhost:8080/"
        },
        "id": "Nh2ybe54Fb3J",
        "outputId": "b1b424f7-7a49-4410-948a-2f26146cc893"
      },
      "source": [
        "%%R\n",
        "getSymbols(\"AMZN\")\n",
        "head(AMZN, 2)\n"
      ],
      "execution_count": 51,
      "outputs": [
        {
          "output_type": "stream",
          "name": "stdout",
          "text": [
            "           AMZN.Open AMZN.High AMZN.Low AMZN.Close AMZN.Volume AMZN.Adjusted\n",
            "2007-01-03     38.68     39.06    38.05       38.7    12405100          38.7\n",
            "2007-01-04     38.59     39.14    38.26       38.9     6318400          38.9\n"
          ]
        }
      ]
    },
    {
      "cell_type": "code",
      "metadata": {
        "id": "MAxm9_0rFqCx"
      },
      "source": [
        "%%R\n",
        "hchart(AMZN)\n"
      ],
      "execution_count": 53,
      "outputs": []
    },
    {
      "cell_type": "markdown",
      "metadata": {
        "id": "OZ6p9WmfF5NP"
      },
      "source": [
        "Descargamos la serie de las acciones de Nasdaq"
      ]
    },
    {
      "cell_type": "code",
      "metadata": {
        "colab": {
          "base_uri": "https://localhost:8080/"
        },
        "id": "Y359PjUtF6OM",
        "outputId": "c3671e07-b093-471b-eb16-419d5d30865b"
      },
      "source": [
        "%%R\n",
        "getSymbols(\"NDAQ\")\n",
        "head(NDAQ, 2)\n",
        "### Gráfico\n",
        "#hchart(NDAQ)\n"
      ],
      "execution_count": 60,
      "outputs": [
        {
          "output_type": "stream",
          "name": "stdout",
          "text": [
            "           NDAQ.Open NDAQ.High NDAQ.Low NDAQ.Close NDAQ.Volume NDAQ.Adjusted\n",
            "2007-01-03     31.14     31.59    30.85      31.01     5351600      26.49351\n",
            "2007-01-04     31.07     32.00    30.50      31.89     3280300      27.24533\n"
          ]
        }
      ]
    },
    {
      "cell_type": "markdown",
      "metadata": {
        "id": "TPU_1ZNNGCbW"
      },
      "source": [
        "### Series en diferencias"
      ]
    },
    {
      "cell_type": "code",
      "metadata": {
        "id": "zP5yshplGI72"
      },
      "source": [
        "%%R\n",
        "lnAMZN <- log(AMZN$AMZN.Adjusted)\n",
        "diffAMZN <- lnAMZN- Lag(lnAMZN)\n",
        "lnNDAQ <- log(NDAQ$NDAQ.Adjusted)\n",
        "diffNDAQ <- lnNDAQ - Lag(lnNDAQ)\n"
      ],
      "execution_count": 55,
      "outputs": []
    },
    {
      "cell_type": "code",
      "metadata": {
        "colab": {
          "base_uri": "https://localhost:8080/",
          "height": 497
        },
        "id": "kQ2GzTe9GSef",
        "outputId": "a143e17e-5641-4f6f-f929-7a8ad6a675b5"
      },
      "source": [
        "%%R\n",
        "plot(diffAMZN)"
      ],
      "execution_count": 58,
      "outputs": [
        {
          "output_type": "display_data",
          "data": {
            "image/png": "[encoded data removed]"
          },
          "metadata": {}
        }
      ]
    },
    {
      "cell_type": "code",
      "metadata": {
        "colab": {
          "base_uri": "https://localhost:8080/",
          "height": 497
        },
        "id": "n9YCcOSxGmu_",
        "outputId": "38dc8077-17f3-4e25-f089-dc69a43bdcb9"
      },
      "source": [
        "%%R\n",
        "plot(diffNDAQ)"
      ],
      "execution_count": 59,
      "outputs": [
        {
          "output_type": "display_data",
          "data": {
            "image/png": "[encoded data removed]"
          },
          "metadata": {}
        }
      ]
    },
    {
      "cell_type": "markdown",
      "metadata": {
        "id": "ANjHCUHQGwNr"
      },
      "source": [
        "Construimos un scatterplot de ambas series"
      ]
    },
    {
      "cell_type": "code",
      "metadata": {
        "colab": {
          "base_uri": "https://localhost:8080/",
          "height": 531
        },
        "id": "f6DDMGJWG2SY",
        "outputId": "c4e4386f-e0b8-4967-b63e-7bb929e77407"
      },
      "source": [
        "%%R\n",
        "\n",
        "class(AMZN)\n",
        "\n",
        "AMZNN<-as.numeric(diffAMZN); NASDAQQ<-as.numeric(diffNDAQ)\n",
        "### Análisis exploratorio de datos\n",
        "qplot(x=NASDAQQ, y=AMZNN)+\n",
        "  geom_smooth()+\n",
        "    labs(title=\"Gráfico de dispersión AMZN~NDAQ\")"
      ],
      "execution_count": 61,
      "outputs": [
        {
          "output_type": "stream",
          "name": "stderr",
          "text": [
            "R[write to console]: `geom_smooth()` using method = 'gam' and formula 'y ~ s(x, bs = \"cs\")'\n",
            "\n"
          ]
        },
        {
          "output_type": "display_data",
          "data": {
            "image/png": "[encoded data removed]"
          },
          "metadata": {}
        }
      ]
    },
    {
      "cell_type": "code",
      "metadata": {
        "colab": {
          "base_uri": "https://localhost:8080/"
        },
        "id": "NuN2-B8nG50P",
        "outputId": "dd2a2535-9a71-4fe1-8df3-1e0490be0879"
      },
      "source": [
        "%%R\n",
        "reg1 <- lm(AMZNN~NASDAQQ)\n",
        "summary(reg1)"
      ],
      "execution_count": 64,
      "outputs": [
        {
          "output_type": "stream",
          "name": "stdout",
          "text": [
            "\n",
            "Call:\n",
            "lm(formula = AMZNN ~ NASDAQQ)\n",
            "\n",
            "Residuals:\n",
            "      Min        1Q    Median        3Q       Max \n",
            "-0.133788 -0.010056 -0.000934  0.009397  0.239503 \n",
            "\n",
            "Coefficients:\n",
            "             Estimate Std. Error t value Pr(>|t|)    \n",
            "(Intercept) 0.0009789  0.0003538   2.767  0.00569 ** \n",
            "NASDAQQ     0.4381783  0.0157008  27.908  < 2e-16 ***\n",
            "---\n",
            "Signif. codes:  0 ‘***’ 0.001 ‘**’ 0.01 ‘*’ 0.05 ‘.’ 0.1 ‘ ’ 1\n",
            "\n",
            "Residual standard error: 0.02151 on 3695 degrees of freedom\n",
            "  (1 observation deleted due to missingness)\n",
            "Multiple R-squared:  0.1741,\tAdjusted R-squared:  0.1739 \n",
            "F-statistic: 778.9 on 1 and 3695 DF,  p-value: < 2.2e-16\n",
            "\n"
          ]
        }
      ]
    }
  ]
}