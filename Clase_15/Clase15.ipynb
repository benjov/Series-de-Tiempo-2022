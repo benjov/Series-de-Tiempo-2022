{
    "cells": [
        {
            "cell_type": "markdown",
            "metadata": {},
            "source": [
                "\n",
                "### Dependencies and Setup\n"
            ]
        },
        {
            "cell_type": "code",
            "execution_count": null,
            "metadata": {},
            "outputs": [],
            "source": [
                "knitr::opts_chunk$set(echo = TRUE)\n",
                "\n",
                "#install.packages(\"ggplot2\")\n",
                "#install.packages(\"dplyr\")\n",
                "#install.packages(stats)\n",
                "#install.packages(\"MASS\")\n",
                "#install.packages(\"strucchange\")\n",
                "#install.packages(\"zoo\")\n",
                "#install.packages(\"sandwich\")\n",
                "#install.packages(\"urca\")\n",
                "#install.packages(\"lmtest\")\n",
                "#install.packages(\"vars\")\n",
                "# \n",
                "library(ggplot2)\n",
                "library(dplyr)\n",
                "library(stats)\n",
                "library(MASS)\n",
                "library(strucchange)\n",
                "library(zoo)\n",
                "library(sandwich)\n",
                "library(urca)\n",
                "library(lmtest)\n",
                "library(vars)\n"
            ]
        },
        {
            "cell_type": "markdown",
            "metadata": {},
            "source": [
                "# Importamos Datos desde un archivo de R:\n",
                "\n",
                "Los datos \"cargados\" son los originales y los ajustados por estacionalidad. Los cuales son:\n",
                "\n",
                "* INPC: Indice Nacional de Precios al Consumidor (2QJul2018 = 100)\n",
                "\n",
                "* TC: Tipo de Cambio FIX \n",
                "\n",
                "* CETE28: Tasa de rendimiento promedio mensual de los Cetes 28, en por ciento anual\n",
                "\n",
                "* IGAE: Indicador global de la actividad económica (2013 = 100)\n",
                "\n",
                "* IPI: Industrial Production Index (2012 = 100)\n"
            ]
        },
        {
            "cell_type": "code",
            "execution_count": null,
            "metadata": {},
            "outputs": [],
            "source": [
                "load(\"Datos_Ad.RData\")\n",
                "\n",
                "head(Datos_Ad)\n"
            ]
        },
        {
            "cell_type": "markdown",
            "metadata": {},
            "source": [
                "## Conversion a series de tiempo:\n",
                "\n"
            ]
        },
        {
            "cell_type": "code",
            "execution_count": null,
            "metadata": {},
            "outputs": [],
            "source": [
                "DLINPC <- ts(log(Datos_Ad$INPC_Ad) - lag(log(Datos_Ad$INPC_Ad), k = 1), \n",
                "             start = c(2000, 1), \n",
                "             freq = 12)\n",
                "\n",
                "DLTC <- ts(log(Datos_Ad$TC_Ad) - lag(log(Datos_Ad$TC_Ad), k = 1), \n",
                "           start = c(2000, 1), \n",
                "           freq = 12)\n",
                "\n",
                "DLCETE28 <- ts(log(Datos_Ad$CETE28_Ad) - lag(log(Datos_Ad$CETE28_Ad), k = 1), \n",
                "               start = c(2000, 1), \n",
                "               freq = 12)\n",
                "\n",
                "DLIGAE <- ts(log(Datos_Ad$IGAE_Ad) - lag(log(Datos_Ad$IGAE_Ad), k = 1), \n",
                "             start = c(2000, 1), \n",
                "             freq = 12)\n",
                "\n",
                "DLIPI <- ts(log(Datos_Ad$IPI_Ad) - lag(log(Datos_Ad$IPI_Ad), k = 1), \n",
                "            start = c(2000, 1), \n",
                "            freq = 12)\n"
            ]
        },
        {
            "cell_type": "markdown",
            "metadata": {},
            "source": [
                "# Combinacion en un solo set de datos (Dos formas)\n",
                "\n",
                "### 1\n"
            ]
        },
        {
            "cell_type": "code",
            "execution_count": null,
            "metadata": {},
            "outputs": [],
            "source": [
                "Datos <- data.frame(cbind(DLINPC, DLTC, DLCETE28, DLIGAE, DLIPI))\n",
                "\n"
            ]
        },
        {
            "cell_type": "markdown",
            "metadata": {},
            "source": [
                "\n",
                "### 2\n"
            ]
        },
        {
            "cell_type": "code",
            "execution_count": null,
            "metadata": {},
            "outputs": [],
            "source": [
                "Datos <- ts(Datos[2 : 259, ], \n",
                "            start = c(2000, 2), freq = 12)\n"
            ]
        },
        {
            "cell_type": "markdown",
            "metadata": {},
            "source": [
                "## VAR(p) Selection:\n",
                "\n"
            ]
        },
        {
            "cell_type": "code",
            "execution_count": null,
            "metadata": {},
            "outputs": [],
            "source": [
                "VARselect(Datos, lag.max = 12, type = \"const\")\n",
                "\n"
            ]
        },
        {
            "cell_type": "markdown",
            "metadata": {},
            "source": [
                "## VAR Estimacion:\n",
                "\n"
            ]
        },
        {
            "cell_type": "code",
            "execution_count": null,
            "metadata": {},
            "outputs": [],
            "source": [
                "VAR_p <- VAR(Datos, p = 2, type = \"const\")\n",
                "\n",
                "summary(VAR_p)\n"
            ]
        },
        {
            "cell_type": "markdown",
            "metadata": {},
            "source": [
                "\n",
                "### Por ecuación:\n"
            ]
        },
        {
            "cell_type": "code",
            "execution_count": null,
            "metadata": {},
            "outputs": [],
            "source": [
                "#summary(VAR_p, equation = \"DLINPC\")\n",
                "\n",
                "#summary(VAR_p, equation = \"DLTC\")\n",
                "\n",
                "#summary(VAR_p, equation = \"DLCETE28\")\n",
                "\n",
                "#summary(VAR_p, equation = \"DLIGAE\")\n",
                "\n",
                "#summary(VAR_p, equation = \"DLIPI\")\n"
            ]
        },
        {
            "cell_type": "markdown",
            "metadata": {},
            "source": [
                "### Diagnostic tests\n",
                "\n",
                "#### Normalidad:\n"
            ]
        },
        {
            "cell_type": "code",
            "execution_count": null,
            "metadata": {},
            "outputs": [],
            "source": [
                "normality.test(VAR_p)\n",
                "\n"
            ]
        },
        {
            "cell_type": "markdown",
            "metadata": {},
            "source": [
                "#### Autocorrelacion Serial:\n",
                "\n",
                "#### LAGS = 2:\n"
            ]
        },
        {
            "cell_type": "code",
            "execution_count": null,
            "metadata": {},
            "outputs": [],
            "source": [
                "serial.test(VAR_p, lags.bg = 2, type = \"BG\")\n",
                "\n"
            ]
        },
        {
            "cell_type": "markdown",
            "metadata": {},
            "source": [
                "\n",
                "#### LAGS = 4:\n"
            ]
        },
        {
            "cell_type": "code",
            "execution_count": null,
            "metadata": {},
            "outputs": [],
            "source": [
                "serial.test(VAR_p, lags.bg = 4, type = \"BG\")\n",
                "\n"
            ]
        },
        {
            "cell_type": "markdown",
            "metadata": {},
            "source": "#### LAGS = 6:\n"
        },
        {
            "cell_type": "code",
            "execution_count": null,
            "metadata": {},
            "outputs": [],
            "source": [
                "serial.test(VAR_p, lags.bg = 6, type = \"BG\")\n",
                "\n"
            ]
        },
        {
            "cell_type": "markdown",
            "metadata": {},
            "source": [
                "\n",
                "#### Homocedasticidad:\n"
            ]
        },
        {
            "cell_type": "code",
            "execution_count": null,
            "metadata": {},
            "outputs": [],
            "source": [
                "arch.test(VAR_p, lags.multi = 2)\n",
                "\n"
            ]
        },
        {
            "cell_type": "markdown",
            "metadata": {},
            "source": [
                "\n",
                "### Impulse Response:\n"
            ]
        },
        {
            "cell_type": "code",
            "execution_count": null,
            "metadata": {},
            "outputs": [],
            "source": [
                "? irf\n",
                "\n",
                "#\n",
                "\n",
                "IR_DLINPC <- irf(VAR_p, n.ahead = 12, boot = TRUE, \n",
                "                 ci = 0.95, response = \"DLINPC\")\n",
                "\n",
                "IR_DLINPC\n"
            ]
        },
        {
            "cell_type": "markdown",
            "metadata": {},
            "source": "\n"
        },
        {
            "cell_type": "code",
            "execution_count": null,
            "metadata": {},
            "outputs": [],
            "source": [
                "plot(IR_DLINPC)\n",
                "\n"
            ]
        },
        {
            "cell_type": "markdown",
            "metadata": {},
            "source": "\n"
        },
        {
            "cell_type": "code",
            "execution_count": null,
            "metadata": {},
            "outputs": [],
            "source": [
                "IR_DLTC <- irf(VAR_p, n.ahead = 12, boot = TRUE, \n",
                "               ci = 0.95, response = \"DLTC\")\n",
                "\n",
                "IR_DLTC\n"
            ]
        },
        {
            "cell_type": "markdown",
            "metadata": {},
            "source": "\n"
        },
        {
            "cell_type": "code",
            "execution_count": null,
            "metadata": {},
            "outputs": [],
            "source": [
                "plot(IR_DLTC)\n",
                "\n"
            ]
        },
        {
            "cell_type": "markdown",
            "metadata": {},
            "source": "\n"
        },
        {
            "cell_type": "code",
            "execution_count": null,
            "metadata": {},
            "outputs": [],
            "source": [
                "IR_DLCETE28 <- irf(VAR_p, n.ahead = 12, boot = TRUE,\n",
                "                   ci = 0.95, response = \"DLCETE28\")\n",
                "\n",
                "IR_DLCETE28\n"
            ]
        },
        {
            "cell_type": "markdown",
            "metadata": {},
            "source": "\n"
        },
        {
            "cell_type": "code",
            "execution_count": null,
            "metadata": {},
            "outputs": [],
            "source": [
                "plot(IR_DLCETE28)\n",
                "\n"
            ]
        },
        {
            "cell_type": "markdown",
            "metadata": {},
            "source": "\n"
        },
        {
            "cell_type": "code",
            "execution_count": null,
            "metadata": {},
            "outputs": [],
            "source": [
                "IR_DLIPI <- irf(VAR_p, n.ahead = 12, boot = TRUE, \n",
                "                ci = 0.95, response = \"DLIPI\")\n",
                "\n",
                "IR_DLIPI\n"
            ]
        },
        {
            "cell_type": "markdown",
            "metadata": {},
            "source": "\n"
        },
        {
            "cell_type": "code",
            "execution_count": null,
            "metadata": {},
            "outputs": [],
            "source": [
                "plot(IR_DLIPI)\n",
                "\n"
            ]
        },
        {
            "cell_type": "markdown",
            "metadata": {},
            "source": [
                "## Otras opciones del análisis impulso-respuesta\n",
                "\n",
                "### Opción 1\n"
            ]
        },
        {
            "cell_type": "code",
            "execution_count": null,
            "metadata": {},
            "outputs": [],
            "source": [
                "IR_DLINPC_2 <- irf(VAR_p, n.ahead = 12, boot = TRUE, \n",
                "                   ci = 0.95, response = \"DLINPC\",\n",
                "                   ortho = TRUE, cumulative = FALSE)\n",
                "\n",
                "plot(IR_DLINPC_2)\n"
            ]
        },
        {
            "cell_type": "markdown",
            "metadata": {},
            "source": [
                "\n",
                "### Opción 2\n"
            ]
        },
        {
            "cell_type": "code",
            "execution_count": null,
            "metadata": {},
            "outputs": [],
            "source": [
                "IR_DLINPC_3 <- irf(VAR_p, n.ahead = 12, boot = TRUE, \n",
                "                   ci = 0.95, response = \"DLINPC\",\n",
                "                   ortho = TRUE, cumulative = TRUE)\n",
                "\n",
                "plot(IR_DLINPC_3)\n"
            ]
        },
        {
            "cell_type": "markdown",
            "metadata": {},
            "source": "\n"
        }
    ],
    "metadata": {
        "anaconda-cloud": "",
        "kernelspec": {
            "display_name": "R",
            "langauge": "R",
            "name": "ir"
        },
        "language_info": {
            "codemirror_mode": "r",
            "file_extension": ".r",
            "mimetype": "text/x-r-source",
            "name": "R",
            "pygments_lexer": "r",
            "version": "3.4.1"
        }
    },
    "nbformat": 4,
    "nbformat_minor": 1
}
